{
  "cells": [
    {
      "cell_type": "markdown",
      "metadata": {
        "id": "28RCxab1VLn8"
      },
      "source": [
        "# THEORY QUESTIONS\n",
        "\n",
        "1. What is a RESTful API?\n",
        "\n",
        "\n",
        "Ans - A RESTful API, or Representational State Transfer API, is an architectural style for building networked applications. It relies on a stateless, client-server communication model, where interactions are treated as a series of independent requests. In Python, RESTful APIs are commonly built using frameworks like Flask or Django REST framework. These frameworks provide tools and functionalities to handle routing, request parsing, and response formatting, simplifying the development process.\n"
      ]
    },
    {
      "cell_type": "markdown",
      "metadata": {
        "id": "Cnt85JMuVb4g"
      },
      "source": [
        "2. Explain the concept of API specification.\n",
        "\n",
        "\n",
        "Ans - API specification in Python refers to a structured document or format that outlines how an API (Application Programming Interface) should behave. It details the API's endpoints, the accepted request methods (e.g., GET, POST), required parameters, data formats for requests and responses, and authentication methods. The goal is to provide a comprehensive guide for both developers who consume the API and those who maintain it."
      ]
    },
    {
      "cell_type": "markdown",
      "metadata": {
        "id": "TsHNixrQVkYU"
      },
      "source": [
        "3. What is Flask, and why is it popular for building APIs?\n",
        "\n",
        "\n",
        "Ans - Flask is a micro web framework for Python, designed to be lightweight and flexible. It provides the essentials for building web applications and APIs without imposing strict project structures or requiring a lot of boilerplate code. This \"micro\" approach means Flask focuses on keeping the core simple but extensible, allowing developers to add components as needed.\n",
        "\n",
        "Flask is popular for building APIs due to several reasons:\n",
        "\n",
        "-> Simplicity: Flask's straightforward syntax and minimal structure make it easy to learn and use, especially for developers new to web frameworks.\n",
        "\n",
        "-> Flexibility: It gives developers control over the application structure and allows them to choose the tools and libraries they want to use.\n",
        "\n",
        "-> Extensibility: Flask can be easily extended with various libraries and extensions to add functionalities like database integration, authentication, and more.\n",
        "\n",
        "-> Lightweight: Its small size and minimal dependencies make it efficient and fast, ideal for building APIs that need to handle many requests.\n",
        "\n",
        "-> Pythonic: Being built on Python, Flask feels natural to Python developers, allowing them to leverage their existing knowledge and skills."
      ]
    },
    {
      "cell_type": "markdown",
      "metadata": {
        "id": "PIKIrC0TVyWR"
      },
      "source": [
        "4. What is routing in Flask?\n",
        "\n",
        "\n",
        "Ans - Routing in Flask refers to the mechanism of mapping specific URL paths to corresponding functions, known as view functions, within a Flask application. When a user accesses a particular URL, Flask's routing system determines which function should be executed to handle the request and generate the appropriate response."
      ]
    },
    {
      "cell_type": "markdown",
      "metadata": {
        "id": "YdIfBBKoVrSg"
      },
      "source": [
        "5. How do you create a simple Flask application?\n",
        "\n",
        "\n",
        "Ans - Here's how to create a simple Flask application in Python:\n",
        "\n",
        "1.  Install Flask-\n",
        "First, you need to install Flask. You can do this using pip. Open your terminal or command prompt and run:\n"
      ]
    },
    {
      "cell_type": "code",
      "execution_count": null,
      "metadata": {
        "colab": {
          "base_uri": "https://localhost:8080/"
        },
        "id": "-9h6t21jWSP_",
        "outputId": "64528d12-0c02-43b0-c399-08e937164414"
      },
      "outputs": [
        {
          "name": "stdout",
          "output_type": "stream",
          "text": [
            "Requirement already satisfied: Flask in /usr/local/lib/python3.11/dist-packages (3.1.0)\n",
            "Requirement already satisfied: Werkzeug>=3.1 in /usr/local/lib/python3.11/dist-packages (from Flask) (3.1.3)\n",
            "Requirement already satisfied: Jinja2>=3.1.2 in /usr/local/lib/python3.11/dist-packages (from Flask) (3.1.6)\n",
            "Requirement already satisfied: itsdangerous>=2.2 in /usr/local/lib/python3.11/dist-packages (from Flask) (2.2.0)\n",
            "Requirement already satisfied: click>=8.1.3 in /usr/local/lib/python3.11/dist-packages (from Flask) (8.1.8)\n",
            "Requirement already satisfied: blinker>=1.9 in /usr/local/lib/python3.11/dist-packages (from Flask) (1.9.0)\n",
            "Requirement already satisfied: MarkupSafe>=2.0 in /usr/local/lib/python3.11/dist-packages (from Jinja2>=3.1.2->Flask) (3.0.2)\n"
          ]
        }
      ],
      "source": [
        "pip install Flask"
      ]
    },
    {
      "cell_type": "markdown",
      "metadata": {
        "id": "ujeiVg4RWZrd"
      },
      "source": [
        "2.  Create a Basic Flask Application\n",
        "\n",
        "-> Create a new directory for your project:"
      ]
    },
    {
      "cell_type": "code",
      "execution_count": null,
      "metadata": {
        "id": "TNlLJMAHWjBB"
      },
      "outputs": [],
      "source": [
        "!mkdir my_flask_app\n",
        "!cd my_flask_app"
      ]
    },
    {
      "cell_type": "markdown",
      "metadata": {
        "id": "MRuuEjFoWpOX"
      },
      "source": [
        "-> Create a new Python file (e.g., app.py):"
      ]
    },
    {
      "cell_type": "code",
      "execution_count": null,
      "metadata": {
        "id": "YtpJze_XWtHE"
      },
      "outputs": [],
      "source": [
        "!touch app.py"
      ]
    },
    {
      "cell_type": "markdown",
      "metadata": {
        "id": "p8C1dfGaWy2a"
      },
      "source": [
        "-> Open app.py in your favorite text editor and add the following code:"
      ]
    },
    {
      "cell_type": "code",
      "execution_count": null,
      "metadata": {
        "colab": {
          "base_uri": "https://localhost:8080/"
        },
        "id": "IpJwQiEEW5-1",
        "outputId": "5271b570-0234-43ec-bb75-03eeca30c90f"
      },
      "outputs": [
        {
          "name": "stdout",
          "output_type": "stream",
          "text": [
            " * Serving Flask app '__main__'\n",
            " * Debug mode: on\n"
          ]
        },
        {
          "name": "stderr",
          "output_type": "stream",
          "text": [
            "INFO:werkzeug:\u001b[31m\u001b[1mWARNING: This is a development server. Do not use it in a production deployment. Use a production WSGI server instead.\u001b[0m\n",
            " * Running on http://127.0.0.1:5000\n",
            "INFO:werkzeug:\u001b[33mPress CTRL+C to quit\u001b[0m\n",
            "INFO:werkzeug: * Restarting with stat\n"
          ]
        }
      ],
      "source": [
        "from flask import Flask\n",
        "\n",
        "app = Flask(__name__)\n",
        "\n",
        "@app.route('/')\n",
        "def home():\n",
        "    return \"Hello, Flask!\"\n",
        "\n",
        "if __name__ == '__main__':\n",
        "    app.run(debug=True)"
      ]
    },
    {
      "cell_type": "markdown",
      "metadata": {
        "id": "DAlhuxRSc5Nk"
      },
      "source": [
        "3. Run the Flask Application-\n",
        "In your terminal, make sure you are in the directory where app.py is located, and run the application with:\n",
        "\n"
      ]
    },
    {
      "cell_type": "code",
      "execution_count": null,
      "metadata": {
        "colab": {
          "base_uri": "https://localhost:8080/"
        },
        "id": "do8KA3NLdEPW",
        "outputId": "473e9a9b-1c52-4a3f-a672-dd1e8fd5f98b"
      },
      "outputs": [
        {
          "name": "stdout",
          "output_type": "stream",
          "text": [
            "python3: can't open file '/content/app.py': [Errno 2] No such file or directory\n"
          ]
        }
      ],
      "source": [
        "!python app.py"
      ]
    },
    {
      "cell_type": "markdown",
      "metadata": {
        "id": "MbbYvRHMdSaD"
      },
      "source": [
        "4. Access the Application-\n",
        "Once the application is running, you should see output indicating that the server is running, typically at http://127.0.0.1:5000/. Open a web browser and navigate to that URL. You should see the message \"Hello, Flask!\".\n",
        "\n",
        "5. Stop the Application-\n",
        "To stop the Flask application, you can press Ctrl + C in the terminal where the application is running."
      ]
    },
    {
      "cell_type": "markdown",
      "metadata": {
        "id": "HlAjhbE0dd8c"
      },
      "source": [
        "6. What are HTTP methods used in RESTful APIs?\n",
        "\n",
        "Ans - The primary HTTP methods used in RESTful APIs are GET, POST, PUT, PATCH, and DELETE, which map to the core CRUD operations of Create, Read, Update, and Delete. These methods are fundamental for interacting with resources in a RESTful API.\n",
        "\n",
        "-> GET:\n",
        "Retrieves data from a server. It's used to fetch a specific resource or a collection of resources.\n",
        "\n",
        "-> POST:\n",
        "Creates a new resource on the server. It's commonly used to submit form data or upload files.\n",
        "\n",
        "-> PUT:\n",
        "Updates an existing resource, replacing it entirely with the new data provided in the request. It can also create a new resource if one doesn't exist.\n",
        "\n",
        "-> PATCH:\n",
        "Performs a partial update on a resource. It only updates specific fields or properties of the resource, rather than replacing the entire resource.\n",
        "\n",
        "-> DELETE:\n",
        "Removes a resource from the server."
      ]
    },
    {
      "cell_type": "markdown",
      "metadata": {
        "id": "TaXI-SPeeMXR"
      },
      "source": [
        "7. What is the purpose of the @app.route() decorator in Flask?\n",
        "\n",
        "Ans - The @app.route() decorator in Flask serves to bind a specific URL path to a Python function. When a user visits that URL in their browser, Flask executes the associated function and returns its output as the response. It enables the creation of different routes, each handling a specific function within the web application."
      ]
    },
    {
      "cell_type": "code",
      "execution_count": null,
      "metadata": {
        "colab": {
          "base_uri": "https://localhost:8080/"
        },
        "id": "sQQYQhSSecPH",
        "outputId": "65868e6b-dd50-4145-e42c-8db95bbea46a"
      },
      "outputs": [
        {
          "name": "stdout",
          "output_type": "stream",
          "text": [
            " * Serving Flask app '__main__'\n",
            " * Debug mode: on\n"
          ]
        },
        {
          "name": "stderr",
          "output_type": "stream",
          "text": [
            "INFO:werkzeug:\u001b[31m\u001b[1mWARNING: This is a development server. Do not use it in a production deployment. Use a production WSGI server instead.\u001b[0m\n",
            " * Running on http://127.0.0.1:5000\n",
            "INFO:werkzeug:\u001b[33mPress CTRL+C to quit\u001b[0m\n",
            "INFO:werkzeug: * Restarting with stat\n"
          ]
        }
      ],
      "source": [
        "from flask import Flask\n",
        "\n",
        "app = Flask(__name__)\n",
        "\n",
        "@app.route(\"/\")\n",
        "def home():\n",
        "    return \"This is the home page!\"\n",
        "\n",
        "@app.route(\"/about\")\n",
        "def about():\n",
        "    return \"This is the about page.\"\n",
        "\n",
        "if __name__ == \"__main__\":\n",
        "    app.run(debug=True)"
      ]
    },
    {
      "cell_type": "markdown",
      "metadata": {
        "id": "dbN0uDVxeh73"
      },
      "source": [
        "In this example, when a user accesses the root URL (\"/\"), the home() function is executed, displaying \"This is the home page!\". Similarly, visiting \"/about\" triggers the about() function, showing \"This is the about page.\". The @app.route() decorator makes the function accessible through the specified URL, effectively routing web requests to the appropriate code."
      ]
    },
    {
      "cell_type": "markdown",
      "metadata": {
        "id": "XRNyXX9ienZ5"
      },
      "source": [
        "8. What is the difference between GET and POST HTTP methods?\n",
        "\n",
        "Ans - The primary difference between GET and POST HTTP methods lies in their purpose and how they transmit data:\n",
        "\n",
        "1. GET:\n",
        "\n",
        "-> Primarily used to retrieve data from a server.\n",
        "\n",
        "-> Appends data to the URL as query parameters, making it visible in the browser's address bar and server logs.\n",
        "\n",
        "-> Limited in the amount of data it can send due to URL length restrictions.\n",
        "\n",
        "-> Considered less secure for sensitive information because data is exposed in the URL.\n",
        "\n",
        "-> Can be cached by browsers and servers.\n",
        "\n",
        "2. POST:\n",
        "\n",
        "-> Primarily used to send data to a server to create or update a resource.\n",
        "\n",
        "-> Sends data in the request body, which is not visible in the URL.\n",
        "\n",
        "-> Can handle larger amounts of data compared to GET.\n",
        "\n",
        "-> Considered more secure for sensitive information as data is not exposed in the URL.\n",
        "\n",
        "-> Not typically cached.\n",
        "\n",
        "-> Supports various data types, including binary data."
      ]
    },
    {
      "cell_type": "markdown",
      "metadata": {
        "id": "_s9m57sOfbB5"
      },
      "source": [
        "9.  How do you handle errors in Flask APIs?\n",
        "\n",
        "Ans - Flask applications can handle errors through several methods:\n",
        "\n",
        "-> Using try and except blocks: This involves wrapping code that might raise exceptions within a try block, followed by one or more except blocks to handle specific exception types.\n",
        "\n"
      ]
    },
    {
      "cell_type": "code",
      "execution_count": null,
      "metadata": {
        "id": "qKLMxvcjf4Lj"
      },
      "outputs": [],
      "source": [
        "from flask import Flask, jsonify\n",
        "\n",
        "app = Flask(__name__)\n",
        "\n",
        "@app.route('/data')\n",
        "def get_data():\n",
        "    try:\n",
        "        data = {'value': 10 / 0}  # This will raise a ZeroDivisionError\n",
        "    except ZeroDivisionError as e:\n",
        "        return jsonify({'error': str(e)}), 500\n",
        "    return jsonify(data)"
      ]
    },
    {
      "cell_type": "markdown",
      "metadata": {
        "id": "oD3miH7SgEeo"
      },
      "source": [
        "-> Using the @app.errorhandler decorator: This decorator allows defining functions that handle specific HTTP error codes or exception types."
      ]
    },
    {
      "cell_type": "code",
      "execution_count": null,
      "metadata": {
        "id": "SaRsiBg6gJ2p"
      },
      "outputs": [],
      "source": [
        "from flask import Flask, jsonify\n",
        "from werkzeug.exceptions import NotFound\n",
        "\n",
        "app = Flask(__name__)\n",
        "\n",
        "@app.route('/item/<int:item_id>')\n",
        "def get_item(item_id):\n",
        "    if item_id > 100:\n",
        "        raise NotFound(description='Item not found')\n",
        "    return jsonify({'item_id': item_id})\n",
        "\n",
        "@app.errorhandler(NotFound)\n",
        "def handle_not_found(error):\n",
        "    return jsonify({'error': error.description}), 404"
      ]
    },
    {
      "cell_type": "markdown",
      "metadata": {
        "id": "akM_RRWLgPOo"
      },
      "source": [
        "-> Using abort: Flask provides the abort function to immediately raise an HTTPException with a specific error code."
      ]
    },
    {
      "cell_type": "code",
      "execution_count": null,
      "metadata": {
        "id": "OfkLF2BagUNp"
      },
      "outputs": [],
      "source": [
        "from flask import Flask, jsonify, abort\n",
        "\n",
        "app = Flask(__name__)\n",
        "\n",
        "@app.route('/delete/<int:item_id>')\n",
        "def delete_item(item_id):\n",
        "    if item_id > 100:\n",
        "        abort(404, description='Item not found')\n",
        "    return jsonify({'message': f'Item {item_id} deleted'})\n",
        "\n",
        "@app.errorhandler(404)\n",
        "def handle_not_found(error):\n",
        "    return jsonify({'error': error.description}), 404"
      ]
    },
    {
      "cell_type": "markdown",
      "metadata": {
        "id": "fNcZym-ggXTn"
      },
      "source": [
        "-> Custom Exception Classes: Creating custom exception classes allows for more specific error handling."
      ]
    },
    {
      "cell_type": "code",
      "execution_count": null,
      "metadata": {
        "id": "0FMUJFi1gbtM"
      },
      "outputs": [],
      "source": [
        "from flask import Flask, jsonify\n",
        "from werkzeug.exceptions import HTTPException\n",
        "\n",
        "app = Flask(__name__)\n",
        "\n",
        "class CustomError(HTTPException):\n",
        "    def __init__(self, message, status_code):\n",
        "        self.response = jsonify({'error': message})\n",
        "        self.code = status_code\n",
        "\n",
        "@app.route('/process')\n",
        "def process_data():\n",
        "    raise CustomError('Data processing failed', 503)\n",
        "\n",
        "@app.errorhandler(CustomError)\n",
        "def handle_custom_error(error):\n",
        "    return error.get_response()"
      ]
    },
    {
      "cell_type": "markdown",
      "metadata": {
        "id": "TdMYIr5egd54"
      },
      "source": [
        "10.  How do you connect Flask to a SQL database?\n",
        "\n",
        "Ans - To connect Flask to a SQL database, you can use the Flask-SQLAlchemy extension. Here's how: Install Flask-SQLAlchemy."
      ]
    },
    {
      "cell_type": "code",
      "execution_count": null,
      "metadata": {
        "colab": {
          "base_uri": "https://localhost:8080/"
        },
        "id": "bi38aGK6gq0P",
        "outputId": "d0ce33d3-d559-4712-8fe5-f354e2be45b1"
      },
      "outputs": [
        {
          "name": "stdout",
          "output_type": "stream",
          "text": [
            "Collecting Flask-SQLAlchemy\n",
            "  Downloading flask_sqlalchemy-3.1.1-py3-none-any.whl.metadata (3.4 kB)\n",
            "Requirement already satisfied: flask>=2.2.5 in /usr/local/lib/python3.11/dist-packages (from Flask-SQLAlchemy) (3.1.0)\n",
            "Requirement already satisfied: sqlalchemy>=2.0.16 in /usr/local/lib/python3.11/dist-packages (from Flask-SQLAlchemy) (2.0.40)\n",
            "Requirement already satisfied: Werkzeug>=3.1 in /usr/local/lib/python3.11/dist-packages (from flask>=2.2.5->Flask-SQLAlchemy) (3.1.3)\n",
            "Requirement already satisfied: Jinja2>=3.1.2 in /usr/local/lib/python3.11/dist-packages (from flask>=2.2.5->Flask-SQLAlchemy) (3.1.6)\n",
            "Requirement already satisfied: itsdangerous>=2.2 in /usr/local/lib/python3.11/dist-packages (from flask>=2.2.5->Flask-SQLAlchemy) (2.2.0)\n",
            "Requirement already satisfied: click>=8.1.3 in /usr/local/lib/python3.11/dist-packages (from flask>=2.2.5->Flask-SQLAlchemy) (8.1.8)\n",
            "Requirement already satisfied: blinker>=1.9 in /usr/local/lib/python3.11/dist-packages (from flask>=2.2.5->Flask-SQLAlchemy) (1.9.0)\n",
            "Requirement already satisfied: greenlet>=1 in /usr/local/lib/python3.11/dist-packages (from sqlalchemy>=2.0.16->Flask-SQLAlchemy) (3.2.0)\n",
            "Requirement already satisfied: typing-extensions>=4.6.0 in /usr/local/lib/python3.11/dist-packages (from sqlalchemy>=2.0.16->Flask-SQLAlchemy) (4.13.2)\n",
            "Requirement already satisfied: MarkupSafe>=2.0 in /usr/local/lib/python3.11/dist-packages (from Jinja2>=3.1.2->flask>=2.2.5->Flask-SQLAlchemy) (3.0.2)\n",
            "Downloading flask_sqlalchemy-3.1.1-py3-none-any.whl (25 kB)\n",
            "Installing collected packages: Flask-SQLAlchemy\n",
            "Successfully installed Flask-SQLAlchemy-3.1.1\n"
          ]
        }
      ],
      "source": [
        "    pip install Flask-SQLAlchemy"
      ]
    },
    {
      "cell_type": "markdown",
      "metadata": {
        "id": "74BQ7yhIgtfY"
      },
      "source": [
        "Configure the Flask app."
      ]
    },
    {
      "cell_type": "code",
      "execution_count": null,
      "metadata": {
        "id": "dcU-EB8AgxOM"
      },
      "outputs": [],
      "source": [
        "    from flask import Flask\n",
        "    from flask_sqlalchemy import SQLAlchemy\n",
        "    import os\n",
        "\n",
        "    app = Flask(__name__)\n",
        "\n",
        "    # Configure the database URI\n",
        "    app.config['SQLALCHEMY_DATABASE_URI'] = 'sqlite:///' + os.path.join(app.root_path, 'mydatabase.db')  # Use your desired database type and path\n",
        "\n",
        "    #Initialize the SQLAlchemy extension\n",
        "    db = SQLAlchemy(app)"
      ]
    },
    {
      "cell_type": "markdown",
      "metadata": {
        "id": "9bs9TncVg0D_"
      },
      "source": [
        "Define database models."
      ]
    },
    {
      "cell_type": "code",
      "execution_count": null,
      "metadata": {
        "id": "TiiU6mFmg4CZ"
      },
      "outputs": [],
      "source": [
        "    class User(db.Model):\n",
        "        id = db.Column(db.Integer, primary_key=True)\n",
        "        username = db.Column(db.String(80), unique=True, nullable=False)\n",
        "        email = db.Column(db.String(120), unique=True, nullable=False)\n",
        "\n",
        "        def __repr__(self):\n",
        "            return f'<User {self.username}>'"
      ]
    },
    {
      "cell_type": "markdown",
      "metadata": {
        "id": "-sYj_RwGg6WV"
      },
      "source": [
        "Create database tables."
      ]
    },
    {
      "cell_type": "code",
      "execution_count": null,
      "metadata": {
        "id": "zq7NG_OHg9BC"
      },
      "outputs": [],
      "source": [
        "    with app.app_context():\n",
        "        db.create_all()"
      ]
    },
    {
      "cell_type": "markdown",
      "metadata": {
        "id": "fHN6grwjhALF"
      },
      "source": [
        "Interact with the database."
      ]
    },
    {
      "cell_type": "code",
      "execution_count": null,
      "metadata": {
        "colab": {
          "base_uri": "https://localhost:8080/"
        },
        "id": "W5THKVRFhRgM",
        "outputId": "2c954003-4485-47f6-c9d2-786dc009c7dd"
      },
      "outputs": [
        {
          "name": "stdout",
          "output_type": "stream",
          "text": [
            "<User john_doe>\n",
            "<User john_doe>\n"
          ]
        }
      ],
      "source": [
        "from flask import Flask\n",
        "from flask_sqlalchemy import SQLAlchemy\n",
        "import os\n",
        "\n",
        "app = Flask(__name__)\n",
        "\n",
        "# Configure the database URI\n",
        "app.config['SQLALCHEMY_DATABASE_URI'] = 'sqlite:///' + os.path.join(app.root_path, 'mydatabase.db')  # Use your desired database type and path\n",
        "\n",
        "# Initialize the SQLAlchemy extension\n",
        "db = SQLAlchemy(app)\n",
        "\n",
        "class User(db.Model):\n",
        "    id = db.Column(db.Integer, primary_key=True)\n",
        "    username = db.Column(db.String(80), unique=True, nullable=False)\n",
        "    email = db.Column(db.String(120), unique=True, nullable=False)\n",
        "\n",
        "    def __repr__(self):\n",
        "        return f'<User {self.username}>'\n",
        "\n",
        "with app.app_context():\n",
        "    db.create_all()\n",
        "\n",
        "    #This needs to be within the application context as well\n",
        "    # Create a new user\n",
        "    new_user = User(username='john_doe', email='john.doe@example.com')\n",
        "    db.session.add(new_user)\n",
        "    db.session.commit()\n",
        "\n",
        "    # Query users\n",
        "    users = User.query.all()\n",
        "    for user in users:\n",
        "        print(user)\n",
        "\n",
        "    # Find a user by username\n",
        "    user = User.query.filter_by(username='john_doe').first()\n",
        "    print(user)"
      ]
    },
    {
      "cell_type": "markdown",
      "metadata": {
        "id": "D9QgPr_ZhWf-"
      },
      "source": [
        "Close database connection-\n",
        "It's recommended to close the database connection after each request. Flask-SQLAlchemy handles this automatically within the application context."
      ]
    },
    {
      "cell_type": "markdown",
      "metadata": {
        "id": "6WDty2wjhYeE"
      },
      "source": [
        "11. What is the role of Flask-SQLAlchemy?\n",
        "\n",
        "Ans - Flask-SQLAlchemy serves as a bridge between the Flask web framework and the SQLAlchemy library in Python. Its primary role is to simplify database interactions within Flask applications. It achieves this by providing tools and abstractions that streamline common database-related tasks. Flask-SQLAlchemy handles the setup and configuration of SQLAlchemy, allowing developers to focus on defining data models and interacting with the database. It supports various database engines like SQLite, MySQL, and PostgreSQL.\n",
        "\n",
        "Flask-SQLAlchemy facilitates the definition of database models using Python classes, abstracting the underlying SQL. It also manages database sessions and provides convenient methods for querying and manipulating data. This simplifies database operations such as creating, reading, updating, and deleting records. It can also automatically create database tables based on defined models."
      ]
    },
    {
      "cell_type": "markdown",
      "metadata": {
        "id": "4XIJcsHohi6n"
      },
      "source": [
        "12. What are Flask blueprints, and how are they useful?\n",
        "\n",
        "Ans - Flask blueprints are a way to organize Flask applications into reusable components. They allow developers to structure their code logically, especially in larger projects, by dividing the application into smaller, manageable modules. Each blueprint can encapsulate its own routes, templates, static files, and other resources.\n",
        "\n",
        "Blueprints are useful for:\n",
        "\n",
        "-> Modularity:\n",
        "They promote a modular design, making it easier to develop and maintain large applications.\n",
        "\n",
        "-> Reusability:\n",
        "Blueprints can be reused across different projects or within the same project in multiple places.\n",
        "\n",
        "-> Organization:\n",
        "They improve code organization by grouping related functionalities together.\n",
        "\n",
        "-> Namespace:\n",
        "Blueprints provide a namespace for routes, preventing naming conflicts and making it easier to understand the purpose of each route.\n",
        "\n",
        "-> Teamwork:\n",
        "They facilitate teamwork by allowing different developers to work on separate parts of the application simultaneously."
      ]
    },
    {
      "cell_type": "markdown",
      "metadata": {
        "id": "2Bi39G-liAtc"
      },
      "source": [
        "13. What is the purpose of Flask's request object?\n",
        "\n",
        "Ans - In Flask, the request object serves as a crucial tool for accessing and processing incoming data from client requests. It encapsulates all the information sent by the client, such as form data, URL parameters, headers, and files, making it readily available within route handlers.\n",
        "\n",
        "The request object's primary purpose is to facilitate interaction with client requests, enabling developers to extract and utilize the data transmitted by the client. This data can then be used to perform various actions, such as rendering dynamic content, processing user input, or interacting with databases."
      ]
    },
    {
      "cell_type": "markdown",
      "metadata": {
        "id": "7iuN_Ohjia0T"
      },
      "source": [
        "14. How do you create a RESTful API endpoint using Flask?\n",
        "\n",
        "Ans - Here's how to create a RESTful API endpoint using Flask in Python: install flask."
      ]
    },
    {
      "cell_type": "code",
      "execution_count": null,
      "metadata": {
        "colab": {
          "base_uri": "https://localhost:8080/"
        },
        "id": "-FY0Qoh4ikTd",
        "outputId": "1aa7500c-3927-4cd0-e1d7-a9e7cdc1b1c0"
      },
      "outputs": [
        {
          "name": "stdout",
          "output_type": "stream",
          "text": [
            "Requirement already satisfied: Flask in /usr/local/lib/python3.11/dist-packages (3.1.0)\n",
            "Requirement already satisfied: Werkzeug>=3.1 in /usr/local/lib/python3.11/dist-packages (from Flask) (3.1.3)\n",
            "Requirement already satisfied: Jinja2>=3.1.2 in /usr/local/lib/python3.11/dist-packages (from Flask) (3.1.6)\n",
            "Requirement already satisfied: itsdangerous>=2.2 in /usr/local/lib/python3.11/dist-packages (from Flask) (2.2.0)\n",
            "Requirement already satisfied: click>=8.1.3 in /usr/local/lib/python3.11/dist-packages (from Flask) (8.1.8)\n",
            "Requirement already satisfied: blinker>=1.9 in /usr/local/lib/python3.11/dist-packages (from Flask) (1.9.0)\n",
            "Requirement already satisfied: MarkupSafe>=2.0 in /usr/local/lib/python3.11/dist-packages (from Jinja2>=3.1.2->Flask) (3.0.2)\n"
          ]
        }
      ],
      "source": [
        "    pip install Flask"
      ]
    },
    {
      "cell_type": "markdown",
      "metadata": {
        "id": "FswsakSHin2j"
      },
      "source": [
        "Create a Flask app."
      ]
    },
    {
      "cell_type": "code",
      "execution_count": null,
      "metadata": {
        "id": "kDyziya4isg1"
      },
      "outputs": [],
      "source": [
        "    from flask import Flask, request, jsonify\n",
        "    app = Flask(__name__)"
      ]
    },
    {
      "cell_type": "markdown",
      "metadata": {
        "id": "jyWs32ceitdx"
      },
      "source": [
        "Define your endpoint."
      ]
    },
    {
      "cell_type": "code",
      "execution_count": null,
      "metadata": {
        "id": "_yUn0zHLix8O"
      },
      "outputs": [],
      "source": [
        "    @app.route('/items', methods=['GET', 'POST'])\n",
        "    def items():\n",
        "        if request.method == 'GET':\n",
        "            # Handle GET request (e.g., retrieve all items)\n",
        "            return jsonify({'message': 'List of items'}), 200\n",
        "        elif request.method == 'POST':\n",
        "            # Handle POST request (e.g., create a new item)\n",
        "            new_item = request.get_json()\n",
        "            # Process and save the new item\n",
        "            return jsonify({'message': 'Item created', 'item': new_item}), 201"
      ]
    },
    {
      "cell_type": "markdown",
      "metadata": {
        "id": "W0RoqCUSizCO"
      },
      "source": [
        "Run the app."
      ]
    },
    {
      "cell_type": "code",
      "execution_count": null,
      "metadata": {
        "colab": {
          "base_uri": "https://localhost:8080/"
        },
        "id": "7UHpHTpii0d6",
        "outputId": "b2f28f13-1cb8-4dee-fc06-a8332144a27a"
      },
      "outputs": [
        {
          "name": "stdout",
          "output_type": "stream",
          "text": [
            " * Serving Flask app '__main__'\n",
            " * Debug mode: on\n"
          ]
        },
        {
          "name": "stderr",
          "output_type": "stream",
          "text": [
            "INFO:werkzeug:\u001b[31m\u001b[1mWARNING: This is a development server. Do not use it in a production deployment. Use a production WSGI server instead.\u001b[0m\n",
            " * Running on http://127.0.0.1:5000\n",
            "INFO:werkzeug:\u001b[33mPress CTRL+C to quit\u001b[0m\n",
            "INFO:werkzeug: * Restarting with stat\n"
          ]
        }
      ],
      "source": [
        "    if __name__ == '__main__':\n",
        "        app.run(debug=True)"
      ]
    },
    {
      "cell_type": "markdown",
      "metadata": {
        "id": "6rzOMhzpi3zI"
      },
      "source": [
        "This example creates an endpoint /items that handles both GET and POST requests. The GET request returns a list of items, and the POST request creates a new item. The jsonify function converts Python dictionaries to JSON format, and the status codes (200 and 201) indicate the success or failure of the request."
      ]
    },
    {
      "cell_type": "markdown",
      "metadata": {
        "id": "ohjhrEe0i8NK"
      },
      "source": [
        "15. What is the purpose of Flask's jsonify() function?\n",
        "\n",
        "Ans - The jsonify() function in Flask serves to convert Python dictionaries or lists into a JSON-formatted response. It automatically sets the Content-Type header to application/json, signaling to the client that the response body contains JSON data. This is essential for building APIs that communicate with web applications or other services expecting JSON. While one can return a dictionary directly in Flask which will be converted to JSON automatically, jsonify() is useful when returning other JSON-serializable objects or for explicit control over the response."
      ]
    },
    {
      "cell_type": "markdown",
      "metadata": {
        "id": "0aw6VSH-jF67"
      },
      "source": [
        "16.  Explain Flask’s url_for() function.\n",
        "\n",
        "Ans - In Flask, the url_for() function generates a URL for a specific function based on its name and arguments. This dynamic URL generation is crucial for avoiding hardcoding URLs, which can become problematic if the application's URL structure changes. The url_for() function takes the name of the view function as its first argument and any number of keyword arguments, which correspond to the variable parts of the URL rule.\n",
        "\n",
        "For instance, if a route is defined as @app.route('/user/<username>'), the url_for() function can generate a URL for a specific username like this: url_for('user', username='john'). This would return the string '/user/john'. If there are unknown variable parts, they are appended to the URL as query parameters."
      ]
    },
    {
      "cell_type": "code",
      "execution_count": null,
      "metadata": {
        "colab": {
          "base_uri": "https://localhost:8080/"
        },
        "id": "vY9u7GIWjXob",
        "outputId": "fe01f09e-fbae-4e80-adc3-972145d3e1b9"
      },
      "outputs": [
        {
          "name": "stdout",
          "output_type": "stream",
          "text": [
            "/\n",
            "/login\n",
            "/user/JohnDoe\n",
            "/user/JaneDoe?next=/\n"
          ]
        }
      ],
      "source": [
        "from flask import Flask, url_for\n",
        "\n",
        "app = Flask(__name__)\n",
        "\n",
        "@app.route('/')\n",
        "def index():\n",
        "    return 'Index Page'\n",
        "\n",
        "@app.route('/login')\n",
        "def login():\n",
        "    return 'Login Page'\n",
        "\n",
        "@app.route('/user/<username>')\n",
        "def profile(username):\n",
        "    return f'{username}\\'s profile'\n",
        "\n",
        "with app.test_request_context():\n",
        "    print(url_for('index'))\n",
        "    print(url_for('login'))\n",
        "    print(url_for('profile', username='JohnDoe'))\n",
        "    print(url_for('profile', username='JaneDoe', next='/'))"
      ]
    },
    {
      "cell_type": "markdown",
      "metadata": {
        "id": "EluGZJPOjapj"
      },
      "source": [
        "17.  How does Flask handle static files (CSS, JavaScript, etc.)?\n",
        "\n",
        "Ans -\n",
        "1. Create a Static Directory\n",
        "\n",
        "-> Create a directory named static in your Flask project folder. This is where you will place your static files."
      ]
    },
    {
      "cell_type": "code",
      "execution_count": null,
      "metadata": {
        "id": "KMCXEF62kKOQ"
      },
      "outputs": [],
      "source": [
        "mkdir static"
      ]
    },
    {
      "cell_type": "markdown",
      "metadata": {
        "id": "rt740djOkMmW"
      },
      "source": [
        "-> Add your static files (e.g., CSS, JavaScript, images) to the static directory. For example, you might create a CSS file:\n",
        "\n",
        "Create a file named style.css in the static directory:"
      ]
    },
    {
      "cell_type": "code",
      "execution_count": null,
      "metadata": {
        "colab": {
          "base_uri": "https://localhost:8080/",
          "height": 106
        },
        "id": "hwtLWhpgmfyO",
        "outputId": "cc880dfb-2224-4ecc-9c1a-792c62b66a82"
      },
      "outputs": [
        {
          "ename": "SyntaxError",
          "evalue": "invalid syntax (<ipython-input-32-d695a76d84ee>, line 1)",
          "output_type": "error",
          "traceback": [
            "\u001b[0;36m  File \u001b[0;32m\"<ipython-input-32-d695a76d84ee>\"\u001b[0;36m, line \u001b[0;32m1\u001b[0m\n\u001b[0;31m    *(static/style.css, */)\u001b[0m\n\u001b[0m                         ^\u001b[0m\n\u001b[0;31mSyntaxError\u001b[0m\u001b[0;31m:\u001b[0m invalid syntax\n"
          ]
        }
      ],
      "source": [
        "/* static/style.css */\n",
        "body {\n",
        "    background-color: lightblue;\n",
        "    font-family: Arial, sans-serif;\n",
        "}\n",
        "/* static/style.css */\n",
        "body {\n",
        "    background-color: lightblue;\n",
        "    font-family: Arial, sans-serif;\n",
        "}\n",
        "    font-family: Arial, sans-serif;\n",
        "/* static/style.css */\n",
        "body {\n",
        "    background-color: lightblue;\n",
        "    font-family: Arial, sans-serif;\n",
        "}"
      ]
    },
    {
      "cell_type": "markdown",
      "metadata": {
        "id": "FYo3alsMmuI6"
      },
      "source": [
        "18.  What is an API specification, and how does it help in building a Flask API?\n",
        "\n",
        "Ans -  An API specification is a detailed description of how an API (Application Programming Interface) should behave. It outlines the endpoints, request and response formats, authentication methods, error handling, and other important details that define how clients can interact with the API.\n",
        "\n",
        "How API Specification Helps in Building a Flask API\n",
        "\n",
        "When building a Flask API, having a well-defined API specification can significantly streamline the development process:\n",
        "\n",
        "-> Guided Development: The specification acts as a blueprint, guiding developers on what endpoints to create, what data to accept, and what responses to return.\n",
        "\n",
        "-> Validation: You can use the specification to validate incoming requests and outgoing responses, ensuring they conform to the expected formats.\n",
        "\n",
        "-> Framework Integration: Many tools and libraries can generate code or documentation from API specifications (e.g., OpenAPI/Swagger). This can save time and reduce errors.\n",
        "\n",
        "-> Versioning: A clear specification helps manage different versions of the API, making it easier to introduce changes without breaking existing clients."
      ]
    },
    {
      "cell_type": "markdown",
      "metadata": {
        "id": "cpZhqy6XnOVI"
      },
      "source": [
        "19. What are HTTP status codes, and why are they important in a Flask API?\n",
        "\n",
        "Ans - HTTP status codes are three-digit numbers that a server sends back to a client in response to a request. They indicate whether the request was successful, and if not, why.\n",
        " These codes are grouped into five classes:\n",
        "\n",
        "\n",
        "-> 1xx (Informational): The request was received and is being processed.\n",
        "\n",
        "-> 2xx (Success): The request was successful.\n",
        "\n",
        "-> 3xx (Redirection): The client needs to take further action to complete the request.\n",
        "\n",
        "-> 4xx (Client Error): The request contains an error, such as bad syntax or an invalid parameter.\n",
        "\n",
        "-> 5xx (Server Error): The server encountered an error while trying to fulfill the request.\n",
        "\n",
        "\n",
        "In a Flask API, HTTP status codes are important for several reasons:\n",
        "\n",
        "\n",
        "_> Communication:\n",
        "They provide a standardized way for the server to communicate the outcome of a request to the client.\n",
        "\n",
        "-> Error handling:\n",
        "They allow the client to handle errors gracefully, by providing specific information about what went wrong.\n",
        "\n",
        "-> Debugging:\n",
        "They can be helpful for debugging, by providing clues about the source of the problem.\n",
        "\n",
        "-> RESTful principles:\n",
        "They are a key part of building RESTful APIs, which rely on HTTP methods and status codes to represent resources and actions.\n"
      ]
    },
    {
      "cell_type": "markdown",
      "metadata": {
        "id": "NzJnlHvcnxL8"
      },
      "source": [
        "20. How do you handle POST requests in Flask?\n",
        "\n",
        "Ans - To handle POST requests in Flask, one can define a route that accepts POST requests and then access the request data using the request object. Here's how it can be done:"
      ]
    },
    {
      "cell_type": "code",
      "execution_count": null,
      "metadata": {
        "colab": {
          "base_uri": "https://localhost:8080/"
        },
        "id": "5DpE1Ywon9es",
        "outputId": "14198e45-7f6d-49e8-dac8-580802c33c4f"
      },
      "outputs": [
        {
          "name": "stdout",
          "output_type": "stream",
          "text": [
            " * Serving Flask app '__main__'\n",
            " * Debug mode: on\n"
          ]
        },
        {
          "name": "stderr",
          "output_type": "stream",
          "text": [
            "INFO:werkzeug:\u001b[31m\u001b[1mWARNING: This is a development server. Do not use it in a production deployment. Use a production WSGI server instead.\u001b[0m\n",
            " * Running on http://127.0.0.1:5000\n",
            "INFO:werkzeug:\u001b[33mPress CTRL+C to quit\u001b[0m\n",
            "INFO:werkzeug: * Restarting with stat\n"
          ]
        }
      ],
      "source": [
        "from flask import Flask, request, jsonify\n",
        "\n",
        "app = Flask(__name__)\n",
        "\n",
        "@app.route('/data', methods=['POST'])\n",
        "def handle_data():\n",
        "    if request.method == 'POST':\n",
        "        data = request.get_json()  # Get JSON data from the request body\n",
        "        # Process the data (e.g., save to database, perform calculations)\n",
        "        response = {'message': 'Data received successfully', 'data': data}\n",
        "        return jsonify(response), 201  # Return a JSON response with status code 201\n",
        "\n",
        "if __name__ == '__main__':\n",
        "    app.run(debug=True)"
      ]
    },
    {
      "cell_type": "markdown",
      "metadata": {
        "id": "rZhKmwCQoEv2"
      },
      "source": [
        "In this example, the /data route is set up to handle POST requests. The request.get_json() method is used to extract the JSON data sent in the request body. The data is then processed, and a JSON response is returned with a success message and the received data.\n",
        "\n",
        "\n",
        "For form data, you can use request.form to access the submitted values:"
      ]
    },
    {
      "cell_type": "code",
      "execution_count": null,
      "metadata": {
        "colab": {
          "base_uri": "https://localhost:8080/"
        },
        "id": "3pQZt77BoVIA",
        "outputId": "ec7961c5-dd86-4948-e7a8-e923dd1dd7e3"
      },
      "outputs": [
        {
          "name": "stdout",
          "output_type": "stream",
          "text": [
            " * Serving Flask app '__main__'\n",
            " * Debug mode: on\n"
          ]
        },
        {
          "name": "stderr",
          "output_type": "stream",
          "text": [
            "INFO:werkzeug:\u001b[31m\u001b[1mWARNING: This is a development server. Do not use it in a production deployment. Use a production WSGI server instead.\u001b[0m\n",
            " * Running on http://127.0.0.1:5000\n",
            "INFO:werkzeug:\u001b[33mPress CTRL+C to quit\u001b[0m\n",
            "INFO:werkzeug: * Restarting with stat\n"
          ]
        }
      ],
      "source": [
        "from flask import Flask, request, render_template\n",
        "\n",
        "app = Flask(__name__)\n",
        "\n",
        "@app.route('/form', methods=['GET', 'POST'])\n",
        "def handle_form():\n",
        "    if request.method == 'POST':\n",
        "        name = request.form['name']\n",
        "        email = request.form['email']\n",
        "        # Process the form data\n",
        "        return f'Data received: Name - {name}, Email - {email}'\n",
        "    return render_template('form.html')\n",
        "\n",
        "# Changed from __name == '__main__' to __name__ == '__main__'\n",
        "if __name__ == '__main__':\n",
        "    app.run(debug=True)"
      ]
    },
    {
      "cell_type": "markdown",
      "metadata": {
        "id": "hjZXj6eFoe_O"
      },
      "source": [
        "In this example, the /form route handles both GET and POST requests. When a GET request is made, it renders the form.html template. When a POST request is made (when the form is submitted), it extracts the name and email values from request.form and processes them."
      ]
    },
    {
      "cell_type": "markdown",
      "metadata": {
        "id": "U7IJ7vFMogJc"
      },
      "source": [
        "21. How would you secure a Flask API?\n",
        "\n",
        "Ans - To secure a Flask API, implement several security measures:\n",
        "\n",
        "1. Authentication: Implement user authentication to verify the identity of clients accessing the API. Common methods include:\n",
        "\n",
        "-> Token-based authentication: Use tokens (e.g., JWT) to authenticate requests. After successful login, the server issues a token that the client includes in subsequent requests.\n",
        "\n",
        "-> Basic authentication: Use HTTP Basic Authentication for simple APIs.\n",
        "\n",
        "-> OAuth 2.0: Implement OAuth 2.0 for delegated authorization, allowing users to grant limited access to their resources without sharing credentials.\n",
        "\n",
        "2. Authorization:\n",
        "Control access to API endpoints based on user roles or permissions.\n",
        "\n",
        "-> Implement role-based access control (RBAC) or attribute-based access control (ABAC) to manage user permissions.\n",
        "\n",
        "-> Use decorators or middleware to enforce authorization rules for specific endpoints.\n",
        "\n",
        "3. HTTPS:\n",
        "Use HTTPS to encrypt communication between the client and server, protecting sensitive data from eavesdropping.\n",
        "Obtain an SSL/TLS certificate and configure the Flask application to use it.\n",
        "\n",
        "4. Input validation:\n",
        "Validate and sanitize all user inputs to prevent injection attacks (e.g., SQL injection, XSS).\n",
        "\n",
        "-> Use libraries or custom functions to validate data types, formats, and ranges.\n",
        "\n",
        "-> Escape or sanitize user-provided data before using it in database queries or rendering it in templates.\n",
        "\n",
        "5. Error handling:\n",
        "Implement proper error handling to avoid leaking sensitive information in error messages.\n",
        "\n",
        "-> Return generic error messages to clients and log detailed error information on the server."
      ]
    },
    {
      "cell_type": "markdown",
      "metadata": {
        "id": "aC2vKxoBpfkp"
      },
      "source": [
        "22. What is the significance of the Flask-RESTful extension?\n",
        "\n",
        "Ans - Flask-RESTful is a Flask extension that simplifies building RESTful APIs. It offers tools and conventions for defining API resources, handling requests, and formatting responses. Its significance lies in providing a structured and efficient way to develop APIs, promoting best practices and reducing boilerplate code. By using Flask-RESTful, developers can create well-organized, maintainable, and scalable APIs with ease."
      ]
    },
    {
      "cell_type": "markdown",
      "metadata": {
        "id": "jmxQ41jdptje"
      },
      "source": [
        "23. What is the role of Flask's session object?\n",
        "\n",
        "Ans - The Flask session object facilitates storing user-specific data across multiple requests. It acts like a dictionary, enabling the storage and retrieval of key-value pairs associated with a specific user's session. This mechanism is crucial for maintaining stateful interactions in web applications, where HTTP requests are inherently stateless."
      ]
    },
    {
      "cell_type": "markdown",
      "metadata": {
        "id": "DdKKHxxUp_cY"
      },
      "source": [
        "# PRACTICAL QUESTIONS\n",
        "\n",
        "1. How do you create a basic Flask application?\n",
        "\n",
        "Ans -\n",
        "1. Install Flask -\n",
        "First, you need to install Flask. You can do this using pip. Open your terminal or command prompt and run:"
      ]
    },
    {
      "cell_type": "code",
      "execution_count": null,
      "metadata": {
        "colab": {
          "base_uri": "https://localhost:8080/"
        },
        "id": "WL7xP40EqcOM",
        "outputId": "432a22c1-7a00-4629-9fd7-72f6de623791"
      },
      "outputs": [
        {
          "name": "stdout",
          "output_type": "stream",
          "text": [
            "Collecting flask-ngrok\n",
            "  Downloading flask_ngrok-0.0.25-py3-none-any.whl.metadata (1.8 kB)\n",
            "Requirement already satisfied: Flask>=0.8 in /usr/local/lib/python3.11/dist-packages (from flask-ngrok) (3.1.0)\n",
            "Requirement already satisfied: requests in /usr/local/lib/python3.11/dist-packages (from flask-ngrok) (2.32.3)\n",
            "Requirement already satisfied: Werkzeug>=3.1 in /usr/local/lib/python3.11/dist-packages (from Flask>=0.8->flask-ngrok) (3.1.3)\n",
            "Requirement already satisfied: Jinja2>=3.1.2 in /usr/local/lib/python3.11/dist-packages (from Flask>=0.8->flask-ngrok) (3.1.6)\n",
            "Requirement already satisfied: itsdangerous>=2.2 in /usr/local/lib/python3.11/dist-packages (from Flask>=0.8->flask-ngrok) (2.2.0)\n",
            "Requirement already satisfied: click>=8.1.3 in /usr/local/lib/python3.11/dist-packages (from Flask>=0.8->flask-ngrok) (8.1.8)\n",
            "Requirement already satisfied: blinker>=1.9 in /usr/local/lib/python3.11/dist-packages (from Flask>=0.8->flask-ngrok) (1.9.0)\n",
            "Requirement already satisfied: charset-normalizer<4,>=2 in /usr/local/lib/python3.11/dist-packages (from requests->flask-ngrok) (3.4.1)\n",
            "Requirement already satisfied: idna<4,>=2.5 in /usr/local/lib/python3.11/dist-packages (from requests->flask-ngrok) (3.10)\n",
            "Requirement already satisfied: urllib3<3,>=1.21.1 in /usr/local/lib/python3.11/dist-packages (from requests->flask-ngrok) (2.4.0)\n",
            "Requirement already satisfied: certifi>=2017.4.17 in /usr/local/lib/python3.11/dist-packages (from requests->flask-ngrok) (2025.4.26)\n",
            "Requirement already satisfied: MarkupSafe>=2.0 in /usr/local/lib/python3.11/dist-packages (from Jinja2>=3.1.2->Flask>=0.8->flask-ngrok) (3.0.2)\n",
            "Downloading flask_ngrok-0.0.25-py3-none-any.whl (3.1 kB)\n",
            "Installing collected packages: flask-ngrok\n",
            "Successfully installed flask-ngrok-0.0.25\n"
          ]
        }
      ],
      "source": [
        "!pip install flask-ngrok"
      ]
    },
    {
      "cell_type": "code",
      "execution_count": null,
      "metadata": {
        "colab": {
          "background_save": true,
          "base_uri": "https://localhost:8080/"
        },
        "id": "v3YzeiW0AFu7",
        "outputId": "3fd20c2e-f42d-4adb-f7f1-54e43068d9d1"
      },
      "outputs": [
        {
          "name": "stdout",
          "output_type": "stream",
          "text": [
            " * Serving Flask app '__main__'\n",
            " * Debug mode: off\n"
          ]
        },
        {
          "name": "stderr",
          "output_type": "stream",
          "text": [
            "INFO:werkzeug:\u001b[31m\u001b[1mWARNING: This is a development server. Do not use it in a production deployment. Use a production WSGI server instead.\u001b[0m\n",
            " * Running on http://127.0.0.1:5000\n",
            "INFO:werkzeug:\u001b[33mPress CTRL+C to quit\u001b[0m\n"
          ]
        }
      ],
      "source": [
        "from flask import Flask\n",
        "app = Flask(__name__)\n",
        "@app.route('/')\n",
        "def hello():\n",
        "    return 'Hello, World!'\n",
        "if __name__ == '__main__':\n",
        "    app.run()"
      ]
    },
    {
      "cell_type": "markdown",
      "metadata": {
        "id": "IdY6BTpAreHv"
      },
      "source": [
        "2. How do you serve static files like images or CSS in Flask?\n",
        "\n",
        "Ans - In Flask, you can serve static files such as images, CSS, and JavaScript files using the built-in static folder. Flask automatically serves files from this folder, and you can access them using a specific URL pattern.\n",
        "\n",
        "Steps to Serve Static Files in Flask\n",
        "\n",
        "1. Create a static Folder: In your Flask project directory, create a folder named static. This is where you will place your static files.\n",
        "\n",
        "2. Place Your Static Files: Inside the static folder, you can create subfolders for organization (e.g., css, images, js) and place your static files there.\n"
      ]
    },
    {
      "cell_type": "code",
      "execution_count": null,
      "metadata": {
        "colab": {
          "base_uri": "https://localhost:8080/"
        },
        "id": "jAUKfytY9hXC",
        "outputId": "1b29128c-990f-40ee-8288-2b81a6ca092d"
      },
      "outputs": [
        {
          "name": "stdout",
          "output_type": "stream",
          "text": [
            "This cell represents a file structure and is not meant to be executed.\n"
          ]
        }
      ],
      "source": [
        "# This is not code, so no changes are needed.\n",
        "# This is a file structure, and it's already correctly represented.\n",
        "#    │   └── styles.css\n",
        "#    ├── images/\n",
        "#    │   └── logo.png\n",
        "#    └── js/\n",
        "#        └── script.js\n",
        "print('This cell represents a file structure and is not meant to be executed.')"
      ]
    },
    {
      "cell_type": "markdown",
      "metadata": {
        "id": "g6IZqdCR9z1y"
      },
      "source": [
        "3. Access Static Files in Your HTML: You can use the url_for function to generate the URL for your static files in your HTML templates. This is the recommended way to link to static files, as it ensures that the correct URL is generated even if the application is deployed in a different context.\n",
        "\n",
        "\n",
        "EXAMPLE"
      ]
    },
    {
      "cell_type": "code",
      "execution_count": null,
      "metadata": {
        "colab": {
          "base_uri": "https://localhost:8080/"
        },
        "id": "yNRGESAH937Z",
        "outputId": "8944c019-4033-4108-bda0-792c96a90f3e"
      },
      "outputs": [
        {
          "name": "stdout",
          "output_type": "stream",
          "text": [
            " * Serving Flask app '__main__'\n",
            " * Debug mode: on\n"
          ]
        },
        {
          "name": "stderr",
          "output_type": "stream",
          "text": [
            "INFO:werkzeug:\u001b[31m\u001b[1mWARNING: This is a development server. Do not use it in a production deployment. Use a production WSGI server instead.\u001b[0m\n",
            " * Running on http://127.0.0.1:5000\n",
            "INFO:werkzeug:\u001b[33mPress CTRL+C to quit\u001b[0m\n",
            "INFO:werkzeug: * Restarting with stat\n"
          ]
        }
      ],
      "source": [
        "#Example\n",
        "from flask import Flask, render_template\n",
        "\n",
        "app = Flask(__name__)\n",
        "\n",
        "@app.route('/')\n",
        "def home():\n",
        "    return render_template('index.html')\n",
        "\n",
        "if __name__ == '__main__':\n",
        "    app.run(debug=True)"
      ]
    },
    {
      "cell_type": "markdown",
      "metadata": {
        "id": "WGj5HPIp-EjP"
      },
      "source": [
        "Example HTML Template (index.html)\n",
        "\n",
        "Create a folder named templates in your project directory and add an index.html file:\n",
        "\n",
        "\n",
        "\n"
      ]
    },
    {
      "cell_type": "code",
      "execution_count": null,
      "metadata": {
        "id": "8FD4efRR-q0Q"
      },
      "outputs": [],
      "source": [
        "<!DOCTYPE html>\n",
        "<html lang=\"en\">\n",
        "<head>\n",
        "    <meta charset=\"UTF-8\">\n",
        "    <meta name=\"viewport\" content=\"width=device-width, initial-scale=1.0\">\n",
        "    <title>Flask Static Files Example</title>\n",
        "    <link rel=\"stylesheet\" href=\"{{ url_for('static', filename='css/styles.css') }}\">\n",
        "</head>\n",
        "<body>\n",
        "    <h1>Welcome to My Flask App</h1>\n",
        "    <img src=\"{{ url_for('static', filename='images/logo.png') }}\" alt=\"Logo\">\n",
        "    <script src=\"{{ url_for('static', filename='js/script.js') }}\"></script>\n",
        "</body>\n",
        "</html>"
      ]
    },
    {
      "cell_type": "markdown",
      "metadata": {
        "id": "ml5vtNAe-yVj"
      },
      "source": [
        "3. How do you define different routes with different HTTP methods in Flask?\n",
        "\n",
        "Ans - In Flask, you can define different routes that respond to various HTTP methods (like GET, POST, PUT, DELETE, etc.) using the @app.route() decorator. You specify the allowed methods using the methods parameter. This allows you to handle different types of requests for the same endpoint or different endpoints.\n",
        "\n",
        "Example of Defining Routes with Different HTTP Methods\n",
        "\n",
        "Here’s a simple example demonstrating how to define routes for different HTTP methods in a Flask application:"
      ]
    },
    {
      "cell_type": "code",
      "execution_count": null,
      "metadata": {
        "colab": {
          "base_uri": "https://localhost:8080/"
        },
        "id": "Fp95ckVN_MWt",
        "outputId": "f9f021b8-9b21-4e19-8d79-10dc0b34296d"
      },
      "outputs": [
        {
          "name": "stdout",
          "output_type": "stream",
          "text": [
            " * Serving Flask app '__main__'\n",
            " * Debug mode: on\n"
          ]
        },
        {
          "name": "stderr",
          "output_type": "stream",
          "text": [
            "INFO:werkzeug:\u001b[31m\u001b[1mWARNING: This is a development server. Do not use it in a production deployment. Use a production WSGI server instead.\u001b[0m\n",
            " * Running on http://127.0.0.1:5000\n",
            "INFO:werkzeug:\u001b[33mPress CTRL+C to quit\u001b[0m\n",
            "INFO:werkzeug: * Restarting with stat\n"
          ]
        }
      ],
      "source": [
        "from flask import Flask, request, jsonify\n",
        "\n",
        "app = Flask(__name__)\n",
        "\n",
        "# Define a route for GET requests\n",
        "@app.route('/api/resource', methods=['GET'])\n",
        "def get_resource():\n",
        "    # Logic to retrieve the resource\n",
        "    return jsonify({\"message\": \"Resource retrieved successfully!\"})\n",
        "\n",
        "# Define a route for POST requests\n",
        "@app.route('/api/resource', methods=['POST'])\n",
        "def create_resource():\n",
        "    data = request.json  # Get JSON data from the request\n",
        "    # Logic to create a new resource\n",
        "    return jsonify({\"message\": \"Resource created successfully!\", \"data\": data}), 201\n",
        "\n",
        "# Define a route for PUT requests\n",
        "@app.route('/api/resource/<int:id>', methods=['PUT'])\n",
        "def update_resource(id):\n",
        "    data = request.json  # Get JSON data from the request\n",
        "    # Logic to update the resource with the given id\n",
        "    return jsonify({\"message\": f\"Resource {id} updated successfully!\", \"data\": data})\n",
        "\n",
        "# Define a route for DELETE requests\n",
        "@app.route('/api/resource/<int:id>', methods=['DELETE'])\n",
        "def delete_resource(id):\n",
        "    # Logic to delete the resource with the given id\n",
        "    return jsonify({\"message\": f\"Resource {id} deleted successfully!\"})\n",
        "\n",
        "if __name__ == '__main__':\n",
        "    app.run(debug=True)"
      ]
    },
    {
      "cell_type": "markdown",
      "metadata": {
        "id": "WEHd6FPT_P17"
      },
      "source": [
        "Explanation of the Code:\n",
        "\n",
        "1. GET Request:\n",
        "\n",
        "The get_resource function handles GET requests to /api/resource. It retrieves and returns a resource (in this case, a simple message).\n",
        "\n",
        "2. POST Request:\n",
        "\n",
        "The create_resource function handles POST requests to the same endpoint. It expects JSON data in the request body and simulates creating a new resource.\n",
        "\n",
        "3. PUT Request:\n",
        "\n",
        "The update_resource function handles PUT requests to /api/resource/<id>, where <id> is a placeholder for the resource ID. It updates the specified resource based on the provided ID and JSON data.\n",
        "\n",
        "4. DELETE Request:\n",
        "\n",
        "The delete_resource function handles DELETE requests to /api/resource/<id>, allowing for the deletion of a specified resource.\n",
        "\n",
        "Notes:\n",
        "\n",
        "-> You can specify multiple methods in the methods list if you want a single route to handle multiple HTTP methods.\n",
        "\n",
        "-> The request object is used to access data sent with the request, such as JSON payloads.\n",
        "\n",
        "-> Always ensure to return appropriate HTTP status codes along with your responses (e.g., 201 for resource creation, 204 for successful deletion, etc.).\n",
        "\n",
        "\n",
        "Running the Application\n",
        "\n",
        "\n",
        "To run the application, save the code in a file (e.g., app.py) and execute it:"
      ]
    },
    {
      "cell_type": "code",
      "execution_count": null,
      "metadata": {
        "colab": {
          "base_uri": "https://localhost:8080/"
        },
        "id": "zCvdeCsK_qL3",
        "outputId": "daa3b239-a4b9-40e7-8439-683c1d3bde95"
      },
      "outputs": [
        {
          "name": "stdout",
          "output_type": "stream",
          "text": [
            "python3: can't open file '/content/app.py': [Errno 2] No such file or directory\n"
          ]
        }
      ],
      "source": [
        "!python app.py"
      ]
    },
    {
      "cell_type": "markdown",
      "metadata": {
        "id": "nmhJ3YD-_giY"
      },
      "source": [
        "4.  How do you render HTML templates in Flask?\n",
        "\n",
        "Ans -\n",
        "Step 1: Set Up Your Flask Application\n",
        "First, make sure you have Flask installed. If you haven't installed it yet, you can do so using pip:"
      ]
    },
    {
      "cell_type": "code",
      "execution_count": null,
      "metadata": {
        "colab": {
          "base_uri": "https://localhost:8080/"
        },
        "id": "kkTb87mm_5tb",
        "outputId": "f8402c19-93eb-47b9-9331-79fd83f26431"
      },
      "outputs": [
        {
          "name": "stdout",
          "output_type": "stream",
          "text": [
            "Requirement already satisfied: Flask in /usr/local/lib/python3.11/dist-packages (3.1.0)\n",
            "Requirement already satisfied: Werkzeug>=3.1 in /usr/local/lib/python3.11/dist-packages (from Flask) (3.1.3)\n",
            "Requirement already satisfied: Jinja2>=3.1.2 in /usr/local/lib/python3.11/dist-packages (from Flask) (3.1.6)\n",
            "Requirement already satisfied: itsdangerous>=2.2 in /usr/local/lib/python3.11/dist-packages (from Flask) (2.2.0)\n",
            "Requirement already satisfied: click>=8.1.3 in /usr/local/lib/python3.11/dist-packages (from Flask) (8.1.8)\n",
            "Requirement already satisfied: blinker>=1.9 in /usr/local/lib/python3.11/dist-packages (from Flask) (1.9.0)\n",
            "Requirement already satisfied: MarkupSafe>=2.0 in /usr/local/lib/python3.11/dist-packages (from Jinja2>=3.1.2->Flask) (3.0.2)\n"
          ]
        }
      ],
      "source": [
        "pip install Flask"
      ]
    },
    {
      "cell_type": "markdown",
      "metadata": {
        "id": "wqrSZkORAAqQ"
      },
      "source": [
        "Step 2: Create Your Project Structure\n",
        "\n",
        "\n",
        "Create a directory for your Flask application. Inside this directory, create a folder named templates where you will store your HTML files.\n",
        "\n",
        "\n",
        "  \n",
        "  /your_flask_app\n",
        "\n",
        "    /templates\n",
        "\n",
        "        index.html\n",
        "        \n",
        "    app.py"
      ]
    },
    {
      "cell_type": "markdown",
      "metadata": {
        "id": "HtfkOXtHAiUj"
      },
      "source": [
        "Step 3: Create an HTML Template\n",
        "\n",
        "\n",
        "Create an HTML file named index.html inside the templates folder. Here’s a simple example:"
      ]
    },
    {
      "cell_type": "code",
      "execution_count": null,
      "metadata": {
        "colab": {
          "base_uri": "https://localhost:8080/"
        },
        "id": "Pu2Mo6C1Ansk",
        "outputId": "42cece7b-4770-456f-bf34-23e1090dfa79"
      },
      "outputs": [
        {
          "name": "stdout",
          "output_type": "stream",
          "text": [
            " * Serving Flask app '__main__'\n",
            " * Debug mode: on\n"
          ]
        },
        {
          "name": "stderr",
          "output_type": "stream",
          "text": [
            "INFO:werkzeug:\u001b[31m\u001b[1mWARNING: This is a development server. Do not use it in a production deployment. Use a production WSGI server instead.\u001b[0m\n",
            " * Running on http://127.0.0.1:5000\n",
            "INFO:werkzeug:\u001b[33mPress CTRL+C to quit\u001b[0m\n",
            "INFO:werkzeug: * Restarting with stat\n"
          ]
        }
      ],
      "source": [
        "# app.py\n",
        "from flask import Flask, render_template\n",
        "\n",
        "app = Flask(__name__)\n",
        "\n",
        "@app.route('/')\n",
        "def home():\n",
        "    return render_template('index.html', name='World')\n",
        "\n",
        "if __name__ == '__main__':\n",
        "    app.run(debug=True)\n"
      ]
    },
    {
      "cell_type": "markdown",
      "metadata": {
        "id": "l2qLuFU6Azz_"
      },
      "source": [
        "Step 4: Write Your Flask Application\n",
        "\n",
        "\n",
        "In your app.py file, you can set up a basic Flask application and use the render_template function to render your HTML template:"
      ]
    },
    {
      "cell_type": "markdown",
      "metadata": {
        "id": "OzDfXDpaBAWG"
      },
      "source": [
        "Step 5: Run Your Flask Application\n",
        "\n",
        "\n",
        "To run your Flask application, navigate to your project directory in the terminal and execute:"
      ]
    },
    {
      "cell_type": "code",
      "execution_count": null,
      "metadata": {
        "colab": {
          "base_uri": "https://localhost:8080/"
        },
        "id": "ZHHFXsYIBEPG",
        "outputId": "5b41cf2d-96f2-4d25-b3cb-1aa6b7e90634"
      },
      "outputs": [
        {
          "name": "stdout",
          "output_type": "stream",
          "text": [
            "python3: can't open file '/content/app.py': [Errno 2] No such file or directory\n"
          ]
        }
      ],
      "source": [
        "!python app.py"
      ]
    },
    {
      "cell_type": "markdown",
      "metadata": {
        "id": "9kW-onyyBMmi"
      },
      "source": [
        "Step 6: Access Your Application\n",
        "\n",
        "\n",
        "Open your web browser and go to http://127.0.0.1:5000/. You should see the rendered HTML page displaying \"Hello, World!\"."
      ]
    },
    {
      "cell_type": "markdown",
      "metadata": {
        "id": "ZWvBM-yFBOVo"
      },
      "source": [
        "5.  How can you generate URLs for routes in Flask using url_for?\n",
        "\n",
        "Ans -\n",
        "Step 1: Set Up Your Flask Application\n",
        "\n",
        "\n",
        "If you haven't already, create a basic Flask application. Here’s a simple example:"
      ]
    },
    {
      "cell_type": "code",
      "execution_count": null,
      "metadata": {
        "colab": {
          "base_uri": "https://localhost:8080/"
        },
        "id": "qWD7PisCBfzv",
        "outputId": "2260d90c-f7d0-4116-b161-d4122d833ab4"
      },
      "outputs": [
        {
          "name": "stdout",
          "output_type": "stream",
          "text": [
            " * Serving Flask app '__main__'\n",
            " * Debug mode: on\n"
          ]
        },
        {
          "name": "stderr",
          "output_type": "stream",
          "text": [
            "INFO:werkzeug:\u001b[31m\u001b[1mWARNING: This is a development server. Do not use it in a production deployment. Use a production WSGI server instead.\u001b[0m\n",
            " * Running on http://127.0.0.1:5000\n",
            "INFO:werkzeug:\u001b[33mPress CTRL+C to quit\u001b[0m\n",
            "INFO:werkzeug: * Restarting with stat\n"
          ]
        }
      ],
      "source": [
        "# app.py\n",
        "from flask import Flask, render_template, url_for\n",
        "\n",
        "app = Flask(__name__)\n",
        "\n",
        "@app.route('/')\n",
        "def home():\n",
        "    return render_template('index.html')\n",
        "\n",
        "@app.route('/about')\n",
        "def about():\n",
        "    return render_template('about.html')\n",
        "\n",
        "if __name__ == '__main__':\n",
        "    app.run(debug=True)\n"
      ]
    },
    {
      "cell_type": "markdown",
      "metadata": {
        "id": "odFy86w_B-_N"
      },
      "source": [
        "Step 2: Create HTML Templates\n",
        "\n",
        "\n",
        "Create two HTML files in the templates folder: index.html and about.html.\n",
        "\n",
        "\n",
        "\n",
        "index.html:"
      ]
    },
    {
      "cell_type": "markdown",
      "metadata": {
        "id": "Q2iokN2FBwo2"
      },
      "source": [
        "<!-- templates/about.html -->\n",
        "<!DOCTYPE html>\n",
        "<html lang=\"en\">\n",
        "<head>\n",
        "    <meta charset=\"UTF-8\">\n",
        "    <meta name=\"viewport\" content=\"width=device-width, initial-scale=1.0\">\n",
        "    <title>About</title>\n",
        "</head>\n",
        "<body>\n",
        "    <h1>About Page</h1>\n",
        "    <a href=\"{{ url_for('home') }}\">Go to Home Page</a>\n",
        "</body>\n",
        "</html>\n"
      ]
    },
    {
      "cell_type": "markdown",
      "metadata": {
        "id": "5wfkpBWLCGNF"
      },
      "source": [
        "about.html:"
      ]
    },
    {
      "cell_type": "markdown",
      "metadata": {
        "id": "lRhcldafCMRu"
      },
      "source": [
        "<!-- templates/about.html -->\n",
        "<!DOCTYPE html>\n",
        "<html lang=\"en\">\n",
        "<head>\n",
        "    <meta charset=\"UTF-8\">\n",
        "    <meta name=\"viewport\" content=\"width=device-width, initial-scale=1.0\">\n",
        "    <title>About</title>\n",
        "</head>\n",
        "<body>\n",
        "    <h1>About Page</h1>\n",
        "    <a href=\"{{ url_for('home') }}\">Go to Home Page</a>\n",
        "</body>\n",
        "</html>\n"
      ]
    },
    {
      "cell_type": "markdown",
      "metadata": {
        "id": "XuprjyZaCx2y"
      },
      "source": [
        "Step 3: Use url_for in Your Templates\n",
        "\n",
        "\n",
        "In the index.html and about.html templates, you can use url_for to generate URLs for the routes. The url_for function takes the name of the view function as its first argument.\n",
        "\n",
        "In index.html, the link to the About page is generated using url_for('about').\n",
        "\n",
        "In about.html, the link back to the Home page is generated using url_for('home').\n",
        "\n",
        "\n",
        "\n",
        "Step 4: Run Your Flask Application\n",
        "\n",
        "Run your Flask application:"
      ]
    },
    {
      "cell_type": "code",
      "execution_count": null,
      "metadata": {
        "colab": {
          "base_uri": "https://localhost:8080/"
        },
        "id": "2c4nuWtZC6fU",
        "outputId": "7f8f84d0-31a1-4e0a-f2c1-0f71809d8ad8"
      },
      "outputs": [
        {
          "name": "stdout",
          "output_type": "stream",
          "text": [
            "python3: can't open file '/content/app.py': [Errno 2] No such file or directory\n"
          ]
        }
      ],
      "source": [
        "!python app.py"
      ]
    },
    {
      "cell_type": "markdown",
      "metadata": {
        "id": "J1yZ_jF5DEsQ"
      },
      "source": [
        "Step 5: Access Your Application\n",
        "\n",
        "Open your web browser and go to http://127.0.0.1:5000/. You should see the home page with a link to the About page. Clicking the link will take you to the About page, and you can navigate back to the Home page using the link provided there."
      ]
    },
    {
      "cell_type": "markdown",
      "metadata": {
        "id": "BFfHSwLBDGgy"
      },
      "source": [
        "6.  How do you handle forms in Flask?\n",
        "\n",
        "Abs -\n",
        "Step 1: Install Flask-WTF\n",
        "\n",
        "If you haven't already, you need to install the Flask-WTF extension. You can do this using pip:"
      ]
    },
    {
      "cell_type": "code",
      "execution_count": null,
      "metadata": {
        "colab": {
          "base_uri": "https://localhost:8080/"
        },
        "id": "AI4Sm-WvDVlO",
        "outputId": "47a31fe3-aa1c-4b05-83e5-793d8be48311"
      },
      "outputs": [
        {
          "name": "stdout",
          "output_type": "stream",
          "text": [
            "Collecting Flask-WTF\n",
            "  Downloading flask_wtf-1.2.2-py3-none-any.whl.metadata (3.4 kB)\n",
            "Requirement already satisfied: flask in /usr/local/lib/python3.11/dist-packages (from Flask-WTF) (3.1.0)\n",
            "Requirement already satisfied: itsdangerous in /usr/local/lib/python3.11/dist-packages (from Flask-WTF) (2.2.0)\n",
            "Collecting wtforms (from Flask-WTF)\n",
            "  Downloading wtforms-3.2.1-py3-none-any.whl.metadata (5.3 kB)\n",
            "Requirement already satisfied: Werkzeug>=3.1 in /usr/local/lib/python3.11/dist-packages (from flask->Flask-WTF) (3.1.3)\n",
            "Requirement already satisfied: Jinja2>=3.1.2 in /usr/local/lib/python3.11/dist-packages (from flask->Flask-WTF) (3.1.6)\n",
            "Requirement already satisfied: click>=8.1.3 in /usr/local/lib/python3.11/dist-packages (from flask->Flask-WTF) (8.1.8)\n",
            "Requirement already satisfied: blinker>=1.9 in /usr/local/lib/python3.11/dist-packages (from flask->Flask-WTF) (1.9.0)\n",
            "Requirement already satisfied: markupsafe in /usr/local/lib/python3.11/dist-packages (from wtforms->Flask-WTF) (3.0.2)\n",
            "Downloading flask_wtf-1.2.2-py3-none-any.whl (12 kB)\n",
            "Downloading wtforms-3.2.1-py3-none-any.whl (152 kB)\n",
            "\u001b[2K   \u001b[90m━━━━━━━━━━━━━━━━━━━━━━━━━━━━━━━━━━━━━━━━\u001b[0m \u001b[32m152.5/152.5 kB\u001b[0m \u001b[31m3.8 MB/s\u001b[0m eta \u001b[36m0:00:00\u001b[0m\n",
            "\u001b[?25hInstalling collected packages: wtforms, Flask-WTF\n",
            "Successfully installed Flask-WTF-1.2.2 wtforms-3.2.1\n"
          ]
        }
      ],
      "source": [
        "pip install Flask-WTF"
      ]
    },
    {
      "cell_type": "markdown",
      "metadata": {
        "id": "XX-WNs0FDZZD"
      },
      "source": [
        "Step 2: Set Up Your Flask Application\n",
        "Create a basic Flask application structure. Here’s an example:\n",
        "\n",
        "\n"
      ]
    },
    {
      "cell_type": "markdown",
      "metadata": {
        "id": "dnVvR0MSDjZ2"
      },
      "source": [
        "/your_flask_app\n",
        "\n",
        "    /templates\n",
        "\n",
        "        form.html\n",
        "        \n",
        "    app.py"
      ]
    },
    {
      "cell_type": "markdown",
      "metadata": {
        "id": "7qpEI-mcDmo4"
      },
      "source": [
        "Step 3: Create a Form Class\n",
        "\n",
        "In your app.py, you can create a form class using WTForms. Here’s an example of a simple form with a text input and a submit button:"
      ]
    },
    {
      "cell_type": "code",
      "execution_count": null,
      "metadata": {
        "colab": {
          "base_uri": "https://localhost:8080/"
        },
        "id": "Ro6-DbDID8pB",
        "outputId": "2a54b3b9-0968-4bba-b4ce-421fcde79313"
      },
      "outputs": [
        {
          "name": "stdout",
          "output_type": "stream",
          "text": [
            " * Serving Flask app '__main__'\n",
            " * Debug mode: on\n"
          ]
        },
        {
          "name": "stderr",
          "output_type": "stream",
          "text": [
            "INFO:werkzeug:\u001b[31m\u001b[1mWARNING: This is a development server. Do not use it in a production deployment. Use a production WSGI server instead.\u001b[0m\n",
            " * Running on http://127.0.0.1:5000\n",
            "INFO:werkzeug:\u001b[33mPress CTRL+C to quit\u001b[0m\n",
            "INFO:werkzeug: * Restarting with stat\n"
          ]
        }
      ],
      "source": [
        "# app.py\n",
        "from flask import Flask, render_template, redirect, url_for, flash\n",
        "from flask_wtf import FlaskForm\n",
        "from wtforms import StringField, SubmitField\n",
        "from wtforms.validators import DataRequired\n",
        "\n",
        "app = Flask(__name__)\n",
        "app.secret_key = 'your_secret_key'  # Required for session management\n",
        "\n",
        "# Define a form class\n",
        "class MyForm(FlaskForm):\n",
        "    name = StringField('Name', validators=[DataRequired()])\n",
        "    submit = SubmitField('Submit')\n",
        "\n",
        "@app.route('/', methods=['GET', 'POST'])\n",
        "def home():\n",
        "    form = MyForm()\n",
        "    if form.validate_on_submit():\n",
        "        name = form.name.data\n",
        "        flash(f'Hello, {name}!', 'success')  # Flash a success message\n",
        "        return redirect(url_for('home'))  # Redirect to the same page after submission\n",
        "    return render_template('form.html', form=form)\n",
        "\n",
        "if __name__ == '__main__':\n",
        "    app.run(debug=True)\n"
      ]
    },
    {
      "cell_type": "markdown",
      "metadata": {
        "id": "0t5VOE_3EE8u"
      },
      "source": [
        "Step 4: Create the HTML Template\n",
        "\n",
        "Create an HTML file named form.html in the templates folder. This file will render the form:"
      ]
    },
    {
      "cell_type": "markdown",
      "metadata": {
        "id": "naOjIeeUEI6I"
      },
      "source": [
        "<!-- templates/form.html -->\n",
        "<!DOCTYPE html>\n",
        "<html lang=\"en\">\n",
        "<head>\n",
        "    <meta charset=\"UTF-8\">\n",
        "    <meta name=\"viewport\" content=\"width=device-width, initial-scale=1.0\">\n",
        "    <title>Form Example</title>\n",
        "</head>\n",
        "<body>\n",
        "    <h1>Submit Your Name</h1>\n",
        "    <form method=\"POST\">\n",
        "        {{ form.hidden_tag() }}  <!-- CSRF protection -->\n",
        "        <div>\n",
        "            {{ form.name.label }}<br>\n",
        "            {{ form.name(size=32) }}<br>\n",
        "            {% for error in form.name.errors %}\n",
        "                <span style=\"color: red;\">[{{ error }}]</span>\n",
        "            {% endfor %}\n",
        "        </div>\n",
        "        <div>\n",
        "            {{ form.submit() }}\n",
        "        </div>\n",
        "    </form>\n",
        "\n",
        "    {% with messages = get_flashed_messages(with_categories=true) %}\n",
        "        {% if messages %}\n",
        "            <ul>\n",
        "            {% for category, message in messages %}\n",
        "                <li class=\"{{ category }}\">{{ message }}</li>\n",
        "            {% endfor %}\n",
        "            </ul>\n",
        "        {% endif %}\n",
        "    {% endwith %}\n",
        "</body>\n",
        "</html>\n"
      ]
    },
    {
      "cell_type": "markdown",
      "metadata": {
        "id": "q1A4Xeb6EQxD"
      },
      "source": [
        "Step 5: Run Your Flask Application\n",
        "\n",
        "Run your Flask application:"
      ]
    },
    {
      "cell_type": "markdown",
      "metadata": {
        "id": "3bNV0aDNEScv"
      },
      "source": [
        "7. How can you validate form data in Flask?\n",
        "\n",
        "Ans -\n",
        "Step 1: Install Flask-WTF\n",
        "\n",
        "If you haven't already, install the Flask-WTF extension:"
      ]
    },
    {
      "cell_type": "code",
      "execution_count": null,
      "metadata": {
        "colab": {
          "base_uri": "https://localhost:8080/"
        },
        "id": "PjY48JpmEwKX",
        "outputId": "df4c09ea-99cd-42d8-e975-744aae434a71"
      },
      "outputs": [
        {
          "name": "stdout",
          "output_type": "stream",
          "text": [
            "Requirement already satisfied: Flask-WTF in /usr/local/lib/python3.11/dist-packages (1.2.2)\n",
            "Requirement already satisfied: flask in /usr/local/lib/python3.11/dist-packages (from Flask-WTF) (3.1.0)\n",
            "Requirement already satisfied: itsdangerous in /usr/local/lib/python3.11/dist-packages (from Flask-WTF) (2.2.0)\n",
            "Requirement already satisfied: wtforms in /usr/local/lib/python3.11/dist-packages (from Flask-WTF) (3.2.1)\n",
            "Requirement already satisfied: Werkzeug>=3.1 in /usr/local/lib/python3.11/dist-packages (from flask->Flask-WTF) (3.1.3)\n",
            "Requirement already satisfied: Jinja2>=3.1.2 in /usr/local/lib/python3.11/dist-packages (from flask->Flask-WTF) (3.1.6)\n",
            "Requirement already satisfied: click>=8.1.3 in /usr/local/lib/python3.11/dist-packages (from flask->Flask-WTF) (8.1.8)\n",
            "Requirement already satisfied: blinker>=1.9 in /usr/local/lib/python3.11/dist-packages (from flask->Flask-WTF) (1.9.0)\n",
            "Requirement already satisfied: markupsafe in /usr/local/lib/python3.11/dist-packages (from wtforms->Flask-WTF) (3.0.2)\n"
          ]
        }
      ],
      "source": [
        "pip install Flask-WTF"
      ]
    },
    {
      "cell_type": "markdown",
      "metadata": {
        "id": "37bD7GSqExdR"
      },
      "source": [
        "Step 2: Create a Flask Application with a Form\n",
        "\n",
        "Here’s an example of a Flask application that includes a form with validation:"
      ]
    },
    {
      "cell_type": "code",
      "execution_count": null,
      "metadata": {
        "colab": {
          "base_uri": "https://localhost:8080/"
        },
        "id": "6qibn_EwE2oQ",
        "outputId": "606b229f-0cfb-48fd-ed04-59fbcbfc3d83"
      },
      "outputs": [
        {
          "name": "stdout",
          "output_type": "stream",
          "text": [
            " * Serving Flask app '__main__'\n",
            " * Debug mode: on\n"
          ]
        },
        {
          "name": "stderr",
          "output_type": "stream",
          "text": [
            "INFO:werkzeug:\u001b[31m\u001b[1mWARNING: This is a development server. Do not use it in a production deployment. Use a production WSGI server instead.\u001b[0m\n",
            " * Running on http://127.0.0.1:5000\n",
            "INFO:werkzeug:\u001b[33mPress CTRL+C to quit\u001b[0m\n",
            "INFO:werkzeug: * Restarting with stat\n"
          ]
        }
      ],
      "source": [
        "# app.py\n",
        "from flask import Flask, render_template, redirect, url_for, flash\n",
        "from flask_wtf import FlaskForm\n",
        "from wtforms import StringField, SubmitField, EmailField, PasswordField\n",
        "from wtforms.validators import DataRequired, Email, Length, EqualTo\n",
        "\n",
        "app = Flask(__name__)\n",
        "app.secret_key = 'your_secret_key'  # Required for session management\n",
        "\n",
        "# Define a form class with validation\n",
        "class RegistrationForm(FlaskForm):\n",
        "    username = StringField('Username', validators=[DataRequired(), Length(min=3, max=25)])\n",
        "    email = EmailField('Email', validators=[DataRequired(), Email()])\n",
        "    password = PasswordField('Password', validators=[DataRequired(), Length(min=6)])\n",
        "    confirm_password = PasswordField('Confirm Password', validators=[DataRequired(), EqualTo('password')])\n",
        "    submit = SubmitField('Register')\n",
        "\n",
        "@app.route('/register', methods=['GET', 'POST'])\n",
        "def register():\n",
        "    form = RegistrationForm()\n",
        "    if form.validate_on_submit():\n",
        "        # Process the validated data\n",
        "        username = form.username.data\n",
        "        email = form.email.data\n",
        "        password = form.password.data\n",
        "        flash(f'Account created for {username}!', 'success')\n",
        "        return redirect(url_for('register'))  # Redirect after successful registration\n",
        "    return render_template('register.html', form=form)\n",
        "\n",
        "if __name__ == '__main__':\n",
        "    app.run(debug=True)\n"
      ]
    },
    {
      "cell_type": "markdown",
      "metadata": {
        "id": "P9Jv_fJGFJRu"
      },
      "source": [
        "Step 3: Create the HTML Template\n",
        "\n",
        "\n",
        "Create an HTML file named register.html in the templates folder to render the registration form:"
      ]
    },
    {
      "cell_type": "markdown",
      "metadata": {
        "id": "YVygkAcTFLX8"
      },
      "source": [
        "<!-- templates/register.html -->\n",
        "<!DOCTYPE html>\n",
        "<html lang=\"en\">\n",
        "<head>\n",
        "    <meta charset=\"UTF-8\">\n",
        "    <meta name=\"viewport\" content=\"width=device-width, initial-scale=1.0\">\n",
        "    <title>Register</title>\n",
        "</head>\n",
        "<body>\n",
        "    <h1>Register</h1>\n",
        "    <form method=\"POST\">\n",
        "        {{ form.hidden_tag() }}  <!-- CSRF protection -->\n",
        "        <div>\n",
        "            {{ form.username.label }}<br>\n",
        "            {{ form.username(size=32) }}<br>\n",
        "            {% for error in form.username.errors %}\n",
        "                <span style=\"color: red;\">[{{ error }}]</span>\n",
        "            {% endfor %}\n",
        "        </div>\n",
        "        <div>\n",
        "            {{ form.email.label }}<br>\n",
        "            {{ form.email(size=32) }}<br>\n",
        "            {% for error in form.email.errors %}\n",
        "                <span style=\"color: red;\">[{{ error }}]</span>\n",
        "            {% endfor %}\n",
        "        </div>\n",
        "        <div>\n",
        "            {{ form.password.label }}<br>\n",
        "            {{ form.password(size=32) }}<br>\n",
        "            {% for error in form.password.errors %}\n",
        "                <span style=\"color: red;\">[{{ error }}]</span>\n",
        "            {% endfor %}\n",
        "        </div>\n",
        "        <div>\n",
        "            {{ form.confirm_password.label }}<br>\n",
        "            {{ form.confirm_password(size=32) }}<br>\n",
        "            {% for error in form.confirm_password.errors %}\n",
        "                <span style=\"color: red;\">[{{ error }}]</span>\n",
        "            {% endfor %}\n",
        "        </div>\n",
        "        <div>\n",
        "            {{ form.submit() }}\n",
        "        </div>\n",
        "    </form>\n",
        "\n",
        "    {% with messages = get_flashed_messages(with_categories=true) %}\n",
        "        {% if messages %}\n",
        "            <ul>\n",
        "            {% for category, message in messages %}\n",
        "                <li class=\"{{ category }}\">{{ message }}</li>\n",
        "            {% endfor %}\n",
        "            </ul>\n",
        "        {% endif %}\n",
        "    {% endwith %}\n",
        "</body>\n",
        "</html>\n"
      ]
    },
    {
      "cell_type": "markdown",
      "metadata": {
        "id": "j9mqNmXeFPXf"
      },
      "source": [
        "Step 4: Run Your Flask Application\n",
        "\n",
        "Run your Flask application:\n",
        "\n",
        "\n",
        "Step 5: Access Your Application\n",
        "\n",
        "Open your web browser and go to http://127.0.0.1:5000/register. You should see the registration form. If you submit the form with invalid data, the appropriate error messages will be displayed next to the fields."
      ]
    },
    {
      "cell_type": "markdown",
      "metadata": {
        "id": "yJmqwGJjFgqJ"
      },
      "source": [
        "8. How do you manage sessions in Flask?\n",
        "\n",
        "Ans -\n",
        "Step 1: Set Up Your Flask Application\n",
        "\n",
        "First, ensure you have Flask installed. If you haven't installed it yet, you can do so using pip:"
      ]
    },
    {
      "cell_type": "code",
      "execution_count": null,
      "metadata": {
        "colab": {
          "base_uri": "https://localhost:8080/"
        },
        "id": "uQQHYeofF3Wv",
        "outputId": "4bfca98f-6056-4452-c271-de0c781f3125"
      },
      "outputs": [
        {
          "name": "stdout",
          "output_type": "stream",
          "text": [
            "Requirement already satisfied: Flask in /usr/local/lib/python3.11/dist-packages (3.1.0)\n",
            "Requirement already satisfied: Werkzeug>=3.1 in /usr/local/lib/python3.11/dist-packages (from Flask) (3.1.3)\n",
            "Requirement already satisfied: Jinja2>=3.1.2 in /usr/local/lib/python3.11/dist-packages (from Flask) (3.1.6)\n",
            "Requirement already satisfied: itsdangerous>=2.2 in /usr/local/lib/python3.11/dist-packages (from Flask) (2.2.0)\n",
            "Requirement already satisfied: click>=8.1.3 in /usr/local/lib/python3.11/dist-packages (from Flask) (8.1.8)\n",
            "Requirement already satisfied: blinker>=1.9 in /usr/local/lib/python3.11/dist-packages (from Flask) (1.9.0)\n",
            "Requirement already satisfied: MarkupSafe>=2.0 in /usr/local/lib/python3.11/dist-packages (from Jinja2>=3.1.2->Flask) (3.0.2)\n"
          ]
        }
      ],
      "source": [
        "pip install Flask\n"
      ]
    },
    {
      "cell_type": "markdown",
      "metadata": {
        "id": "Ln0V-P4WF931"
      },
      "source": [
        "Step 2: Create a Basic Flask Application\n",
        "\n",
        "Create a basic Flask application structure. Here’s an example:"
      ]
    },
    {
      "cell_type": "markdown",
      "metadata": {
        "id": "VWEqH2PNGdMn"
      },
      "source": [
        "/your_flask_app\n",
        "\n",
        "    app.py"
      ]
    },
    {
      "cell_type": "markdown",
      "metadata": {
        "id": "Tt_h2Jy4GfgI"
      },
      "source": [
        "Step 3: Configure the Secret Key\n",
        "\n",
        "\n",
        "To use sessions in Flask, you need to set a secret key. This key is used to sign the session cookie to prevent tampering. Here’s how to set it up:"
      ]
    },
    {
      "cell_type": "code",
      "execution_count": null,
      "metadata": {
        "colab": {
          "base_uri": "https://localhost:8080/"
        },
        "id": "sbeAHUAeGkQU",
        "outputId": "a737fdf7-a70c-4e78-bf53-0ec43c6b454a"
      },
      "outputs": [
        {
          "name": "stdout",
          "output_type": "stream",
          "text": [
            " * Serving Flask app '__main__'\n",
            " * Debug mode: on\n"
          ]
        },
        {
          "name": "stderr",
          "output_type": "stream",
          "text": [
            "INFO:werkzeug:\u001b[31m\u001b[1mWARNING: This is a development server. Do not use it in a production deployment. Use a production WSGI server instead.\u001b[0m\n",
            " * Running on http://127.0.0.1:5000\n",
            "INFO:werkzeug:\u001b[33mPress CTRL+C to quit\u001b[0m\n",
            "INFO:werkzeug: * Restarting with stat\n"
          ]
        }
      ],
      "source": [
        "# app.py\n",
        "from flask import Flask, session, redirect, url_for, request, flash, render_template\n",
        "\n",
        "app = Flask(__name__)\n",
        "app.secret_key = 'your_secret_key'  # Replace with a strong secret key\n",
        "\n",
        "@app.route('/')\n",
        "def home():\n",
        "    return render_template('home.html')\n",
        "\n",
        "@app.route('/login', methods=['GET', 'POST'])\n",
        "def login():\n",
        "    if request.method == 'POST':\n",
        "        username = request.form['username']\n",
        "        # Here you would normally validate the username and password\n",
        "        session['username'] = username  # Store the username in the session\n",
        "        flash(f'Logged in as {username}', 'success')\n",
        "        return redirect(url_for('dashboard'))\n",
        "    return render_template('login.html')\n",
        "\n",
        "@app.route('/dashboard')\n",
        "def dashboard():\n",
        "    if 'username' in session:\n",
        "        username = session['username']\n",
        "        return f'Welcome to your dashboard, {username}!'\n",
        "    return redirect(url_for('login'))\n",
        "\n",
        "@app.route('/logout')\n",
        "def logout():\n",
        "    session.pop('username', None)  # Remove the username from the session\n",
        "    flash('You have been logged out.', 'info')\n",
        "    return redirect(url_for('home'))\n",
        "\n",
        "if __name__ == '__main__':\n",
        "    app.run(debug=True)\n"
      ]
    },
    {
      "cell_type": "markdown",
      "metadata": {
        "id": "86pDBJKbGqLC"
      },
      "source": [
        "Step 4: Create HTML Templates\n",
        "\n",
        "Create two HTML files in a templates folder: home.html and login.html.\n",
        "\n",
        "\n",
        "home.html:"
      ]
    },
    {
      "cell_type": "markdown",
      "metadata": {
        "id": "jzvsmQ57Gxcq"
      },
      "source": [
        "<!-- templates/home.html -->\n",
        "<!DOCTYPE html>\n",
        "<html lang=\"en\">\n",
        "<head>\n",
        "    <meta charset=\"UTF-8\">\n",
        "    <meta name=\"viewport\" content=\"width=device-width, initial-scale=1.0\">\n",
        "    <title>Home</title>\n",
        "</head>\n",
        "<body>\n",
        "    <h1>Home Page</h1>\n",
        "    <a href=\"{{ url_for('login') }}\">Login</a>\n",
        "</body>\n",
        "</html>\n"
      ]
    },
    {
      "cell_type": "markdown",
      "metadata": {
        "id": "Zd9CHlDhG3u6"
      },
      "source": [
        "login.html:"
      ]
    },
    {
      "cell_type": "markdown",
      "metadata": {
        "id": "bTH0LVB2HFXZ"
      },
      "source": [
        "<!-- templates/login.html -->\n",
        "<!DOCTYPE html>\n",
        "<html lang=\"en\">\n",
        "<head>\n",
        "    <meta charset=\"UTF-8\">\n",
        "    <meta name=\"viewport\" content=\"width=device-width, initial-scale=1.0\">\n",
        "    <title>Login</title>\n",
        "</head>\n",
        "<body>\n",
        "    <h1>Login</h1>\n",
        "    <form method=\"POST\">\n",
        "        <label for=\"username\">Username:</label>\n",
        "        <input type=\"text\" name=\"username\" required>\n",
        "        <button type=\"submit\">Login</button>\n",
        "    </form>\n",
        "</body>\n",
        "</html>\n"
      ]
    },
    {
      "cell_type": "markdown",
      "metadata": {
        "id": "ISGAkEDVHK1F"
      },
      "source": [
        "Step 5: Run Your Flask Application\n",
        "\n",
        "Run your Flask application:"
      ]
    },
    {
      "cell_type": "markdown",
      "metadata": {
        "id": "JdwXgz_NHMby"
      },
      "source": [
        "9.  How do you redirect to a different route in Flask?\n",
        "\n",
        "Ans - Step 1: Set Up Your Flask Application\n"
      ]
    },
    {
      "cell_type": "code",
      "execution_count": null,
      "metadata": {
        "colab": {
          "base_uri": "https://localhost:8080/"
        },
        "id": "B4hWX_WHHkiT",
        "outputId": "848ac34c-3bd7-4e1a-a79e-db2529e17a39"
      },
      "outputs": [
        {
          "name": "stdout",
          "output_type": "stream",
          "text": [
            "Requirement already satisfied: Flask in /usr/local/lib/python3.11/dist-packages (3.1.0)\n",
            "Requirement already satisfied: Werkzeug>=3.1 in /usr/local/lib/python3.11/dist-packages (from Flask) (3.1.3)\n",
            "Requirement already satisfied: Jinja2>=3.1.2 in /usr/local/lib/python3.11/dist-packages (from Flask) (3.1.6)\n",
            "Requirement already satisfied: itsdangerous>=2.2 in /usr/local/lib/python3.11/dist-packages (from Flask) (2.2.0)\n",
            "Requirement already satisfied: click>=8.1.3 in /usr/local/lib/python3.11/dist-packages (from Flask) (8.1.8)\n",
            "Requirement already satisfied: blinker>=1.9 in /usr/local/lib/python3.11/dist-packages (from Flask) (1.9.0)\n",
            "Requirement already satisfied: MarkupSafe>=2.0 in /usr/local/lib/python3.11/dist-packages (from Jinja2>=3.1.2->Flask) (3.0.2)\n"
          ]
        }
      ],
      "source": [
        "pip install Flask"
      ]
    },
    {
      "cell_type": "markdown",
      "metadata": {
        "id": "9FGwU44QHmHR"
      },
      "source": [
        "Step 2: Create a Basic Flask Application\n",
        "Create a basic Flask application structure. Here’s an example:\n",
        "\n",
        "\n",
        "/your_flask_app\n",
        "\n",
        "    app.py"
      ]
    },
    {
      "cell_type": "markdown",
      "metadata": {
        "id": "V-diDR8jHsYR"
      },
      "source": [
        "Step 3: Define Routes and Redirects\n",
        "\n",
        "In your app.py, you can define multiple routes and use the redirect and url_for functions to navigate between them:"
      ]
    },
    {
      "cell_type": "code",
      "execution_count": null,
      "metadata": {
        "colab": {
          "base_uri": "https://localhost:8080/"
        },
        "id": "BezANF1WH0c5",
        "outputId": "4d601d90-01d8-47a4-8140-14c4660e8414"
      },
      "outputs": [
        {
          "name": "stdout",
          "output_type": "stream",
          "text": [
            " * Serving Flask app '__main__'\n",
            " * Debug mode: on\n"
          ]
        },
        {
          "name": "stderr",
          "output_type": "stream",
          "text": [
            "INFO:werkzeug:\u001b[31m\u001b[1mWARNING: This is a development server. Do not use it in a production deployment. Use a production WSGI server instead.\u001b[0m\n",
            " * Running on http://127.0.0.1:5000\n",
            "INFO:werkzeug:\u001b[33mPress CTRL+C to quit\u001b[0m\n",
            "INFO:werkzeug: * Restarting with stat\n"
          ]
        }
      ],
      "source": [
        "# app.py\n",
        "from flask import Flask, redirect, url_for, render_template\n",
        "\n",
        "app = Flask(__name__)\n",
        "\n",
        "@app.route('/')\n",
        "def home():\n",
        "    return render_template('home.html')\n",
        "\n",
        "@app.route('/about')\n",
        "def about():\n",
        "    return render_template('about.html')\n",
        "\n",
        "@app.route('/redirect_to_about')\n",
        "def redirect_to_about():\n",
        "    return redirect(url_for('about'))  # Redirect to the 'about' route\n",
        "\n",
        "if __name__ == '__main__':\n",
        "    app.run(debug=True)\n"
      ]
    },
    {
      "cell_type": "markdown",
      "metadata": {
        "id": "HpmqsjGUIFgJ"
      },
      "source": [
        "Step 4: Create HTML Templates\n",
        "\n",
        "Create two HTML files in a templates folder: home.html and about.html.\n",
        "\n",
        "home.html:"
      ]
    },
    {
      "cell_type": "markdown",
      "metadata": {
        "id": "-0x_dpL4IPft"
      },
      "source": [
        "<!-- templates/home.html -->\n",
        "<!DOCTYPE html>\n",
        "<html lang=\"en\">\n",
        "<head>\n",
        "    <meta charset=\"UTF-8\">\n",
        "    <meta name=\"viewport\" content=\"width=device-width, initial-scale=1.0\">\n",
        "    <title>Home</title>\n",
        "</head>\n",
        "<body>\n",
        "    <h1>Home Page</h1>\n",
        "    <a href=\"{{ url_for('redirect_to_about') }}\">Go to About Page</a>\n",
        "</body>\n",
        "</html>\n"
      ]
    },
    {
      "cell_type": "markdown",
      "metadata": {
        "id": "v6LgTdfrIa-y"
      },
      "source": [
        "about.html:"
      ]
    },
    {
      "cell_type": "markdown",
      "metadata": {
        "id": "_n8cjAnSIQ6o"
      },
      "source": [
        "<!-- templates/about.html -->\n",
        "<!DOCTYPE html>\n",
        "<html lang=\"en\">\n",
        "<head>\n",
        "    <meta charset=\"UTF-8\">\n",
        "    <meta name=\"viewport\" content=\"width=device-width, initial-scale=1.0\">\n",
        "    <title>About</title>\n",
        "</head>\n",
        "<body>\n",
        "    <h1>About Page</h1>\n",
        "    <a href=\"{{ url_for('home') }}\">Go to Home Page</a>\n",
        "</body>\n",
        "</html>\n"
      ]
    },
    {
      "cell_type": "markdown",
      "metadata": {
        "id": "1liG4clNIdfh"
      },
      "source": [
        "Step 5: Run Your Flask Application\n",
        "\n",
        "Run your Flask application:\n",
        "\n",
        "\n",
        "Step 6: Access Your Application\n",
        "\n",
        "Open your web browser and go to http://127.0.0.1:5000/. You will see the home page with a link to the About page.\n",
        "\n",
        "Click on the \"Go to About Page\" link. This will trigger the redirect_to_about route, which will redirect you to the About page.\n",
        "\n"
      ]
    },
    {
      "cell_type": "markdown",
      "metadata": {
        "id": "1ROmzNE5InHR"
      },
      "source": [
        "10.  How do you handle errors in Flask (e.g., 404)?\n",
        "\n",
        "Ans -\n",
        "Step 1: Set Up Your Flask Application\n",
        "\n",
        "First, ensure you have Flask installed. If you haven't installed it yet, you can do so using pip:"
      ]
    },
    {
      "cell_type": "code",
      "execution_count": null,
      "metadata": {
        "colab": {
          "base_uri": "https://localhost:8080/"
        },
        "id": "GTNLcqQjI3om",
        "outputId": "28a3ac28-068c-46ec-a7ac-d8a76edae815"
      },
      "outputs": [
        {
          "name": "stdout",
          "output_type": "stream",
          "text": [
            "Requirement already satisfied: Flask in /usr/local/lib/python3.11/dist-packages (3.1.0)\n",
            "Requirement already satisfied: Werkzeug>=3.1 in /usr/local/lib/python3.11/dist-packages (from Flask) (3.1.3)\n",
            "Requirement already satisfied: Jinja2>=3.1.2 in /usr/local/lib/python3.11/dist-packages (from Flask) (3.1.6)\n",
            "Requirement already satisfied: itsdangerous>=2.2 in /usr/local/lib/python3.11/dist-packages (from Flask) (2.2.0)\n",
            "Requirement already satisfied: click>=8.1.3 in /usr/local/lib/python3.11/dist-packages (from Flask) (8.1.8)\n",
            "Requirement already satisfied: blinker>=1.9 in /usr/local/lib/python3.11/dist-packages (from Flask) (1.9.0)\n",
            "Requirement already satisfied: MarkupSafe>=2.0 in /usr/local/lib/python3.11/dist-packages (from Jinja2>=3.1.2->Flask) (3.0.2)\n"
          ]
        }
      ],
      "source": [
        "pip install Flask"
      ]
    },
    {
      "cell_type": "markdown",
      "metadata": {
        "id": "Eklt2HVbI6Kn"
      },
      "source": [
        "Step 2: Create a Basic Flask Application\n",
        "\n",
        "Create a basic Flask application structure. Here’s an example:"
      ]
    },
    {
      "cell_type": "markdown",
      "metadata": {
        "id": "EGI7c3byJDET"
      },
      "source": [
        "/your_flask_app\n",
        "\n",
        "    app.py\n",
        "    /templates\n",
        "        home.html\n",
        "        error.html"
      ]
    },
    {
      "cell_type": "markdown",
      "metadata": {
        "id": "6-b_QhGfJGzJ"
      },
      "source": [
        "Step 3: Define Routes and Error Handlers\n",
        "\n",
        "In your app.py, you can define routes and create custom error handlers for specific HTTP error codes:"
      ]
    },
    {
      "cell_type": "code",
      "execution_count": null,
      "metadata": {
        "colab": {
          "base_uri": "https://localhost:8080/"
        },
        "id": "VulMmeERJMwp",
        "outputId": "bb4903d7-f5c4-4a29-a0d3-99a92c4844b8"
      },
      "outputs": [
        {
          "name": "stdout",
          "output_type": "stream",
          "text": [
            " * Serving Flask app '__main__'\n",
            " * Debug mode: on\n"
          ]
        },
        {
          "name": "stderr",
          "output_type": "stream",
          "text": [
            "INFO:werkzeug:\u001b[31m\u001b[1mWARNING: This is a development server. Do not use it in a production deployment. Use a production WSGI server instead.\u001b[0m\n",
            " * Running on http://127.0.0.1:5000\n",
            "INFO:werkzeug:\u001b[33mPress CTRL+C to quit\u001b[0m\n",
            "INFO:werkzeug: * Restarting with stat\n"
          ]
        }
      ],
      "source": [
        "# app.py\n",
        "from flask import Flask, render_template\n",
        "\n",
        "app = Flask(__name__)\n",
        "\n",
        "@app.route('/')\n",
        "def home():\n",
        "    return render_template('home.html')\n",
        "\n",
        "@app.route('/cause_error')\n",
        "def cause_error():\n",
        "    # This route will intentionally cause a 404 error\n",
        "    return render_template('non_existent_template.html')\n",
        "\n",
        "@app.errorhandler(404)\n",
        "def not_found(error):\n",
        "    return render_template('error.html', error=error), 404\n",
        "\n",
        "@app.errorhandler(500)\n",
        "def internal_error(error):\n",
        "    return render_template('error.html', error=error), 500\n",
        "\n",
        "if __name__ == '__main__':\n",
        "    app.run(debug=True)\n"
      ]
    },
    {
      "cell_type": "markdown",
      "metadata": {
        "id": "NL4WUqw7JQ1o"
      },
      "source": [
        "Step 4: Create HTML Templates\n",
        "\n",
        "Create two HTML files in the templates folder: home.html and error.html.\n",
        "\n",
        "home.html:"
      ]
    },
    {
      "cell_type": "markdown",
      "metadata": {
        "id": "0VtQhFmfJVVJ"
      },
      "source": [
        "<!-- templates/home.html -->\n",
        "<!DOCTYPE html>\n",
        "<html lang=\"en\">\n",
        "<head>\n",
        "    <meta charset=\"UTF-8\">\n",
        "    <meta name=\"viewport\" content=\"width=device-width, initial-scale=1.0\">\n",
        "    <title>Home</title>\n",
        "</head>\n",
        "<body>\n",
        "    <h1>Home Page</h1>\n",
        "    <a href=\"/cause_error\">Cause a 404 Error</a>\n",
        "</body>\n",
        "</html>\n"
      ]
    },
    {
      "cell_type": "markdown",
      "metadata": {
        "id": "ccTxdE-IJYRr"
      },
      "source": [
        "error.html:"
      ]
    },
    {
      "cell_type": "markdown",
      "metadata": {
        "id": "1PvyYkMoJfub"
      },
      "source": [
        "<!-- templates/error.html -->\n",
        "<!DOCTYPE html>\n",
        "<html lang=\"en\">\n",
        "<head>\n",
        "    <meta charset=\"UTF-8\">\n",
        "    <meta name=\"viewport\" content=\"width=device-width, initial-scale=1.0\">\n",
        "    <title>Error</title>\n",
        "</head>\n",
        "<body>\n",
        "    <h1>An Error Occurred</h1>\n",
        "    <p>{{ error }}</p>\n",
        "    <a href=\"/\">Go back to Home</a>\n",
        "</body>\n",
        "</html>\n"
      ]
    },
    {
      "cell_type": "markdown",
      "metadata": {
        "id": "vhFkFQg4Jjz-"
      },
      "source": [
        "Step 5: Run Your Flask Application\n",
        "\n",
        "Run your Flask application:\n",
        "\n",
        "\n",
        "Step 6: Access Your Application\n",
        "\n",
        "Open your web browser and go to http://127.0.0.1:5000/. You will see the home page.\n",
        "\n",
        "Click on the \"Cause a 404 Error\" link. This will trigger a 404 error because the specified template does not exist.\n",
        "\n",
        "You should see the custom error page displaying the error message.\n"
      ]
    },
    {
      "cell_type": "markdown",
      "metadata": {
        "id": "UI7e7VM0Jwlh"
      },
      "source": [
        "11.  How do you structure a Flask app using Blueprints?\n",
        "\n",
        "Ans -\n",
        "1. Project Structure\n",
        "\n",
        "First, create a directory structure for your Flask application. Here’s a common structure:"
      ]
    },
    {
      "cell_type": "markdown",
      "metadata": {
        "id": "vY_2tsCyZ6V1"
      },
      "source": [
        "/my_flask_app\n",
        "\n",
        "    /app\n",
        "        /auth\n",
        "            __init__.py\n",
        "            routes.py\n",
        "        /blog\n",
        "            __init__.py\n",
        "            routes.py\n",
        "        __init__.py\n",
        "    run.py"
      ]
    },
    {
      "cell_type": "markdown",
      "metadata": {
        "id": "dYaZgEsbUfYx"
      },
      "source": [
        "2. Create the Application Factory\n",
        "\n",
        "In app/__init__.py, create an application factory function that initializes the Flask app and registers the Blueprints."
      ]
    },
    {
      "cell_type": "code",
      "execution_count": null,
      "metadata": {
        "id": "UJB8DgvrUiI7"
      },
      "outputs": [],
      "source": [
        "from flask import Flask\n",
        "\n",
        "def create_app():\n",
        "    app = Flask(__name__)\n",
        "    app.config.from_object('config.Config')\n",
        "\n",
        "    from .main import main as main_blueprint\n",
        "    app.register_blueprint(main_blueprint)\n",
        "\n",
        "    from .auth import auth as auth_blueprint\n",
        "    app.register_blueprint(auth_blueprint, url_prefix='/auth')\n",
        "\n",
        "    return app\n"
      ]
    },
    {
      "cell_type": "markdown",
      "metadata": {
        "id": "wtpZ4YCqUqIF"
      },
      "source": [
        "3. Define Blueprints\n",
        "\n",
        "In each module (e.g., main and auth), define the Blueprint and its routes.\n",
        "\n",
        "app/main/__init__.py"
      ]
    },
    {
      "cell_type": "code",
      "execution_count": null,
      "metadata": {
        "colab": {
          "base_uri": "https://localhost:8080/"
        },
        "id": "kNLDEF6aaVjw",
        "outputId": "fe45a431-0f18-450e-95b1-d1c31bbf8f49"
      },
      "outputs": [
        {
          "name": "stdout",
          "output_type": "stream",
          "text": [
            "Requirement already satisfied: matplotlib-venn in /usr/local/lib/python3.11/dist-packages (1.1.2)\n",
            "Requirement already satisfied: matplotlib in /usr/local/lib/python3.11/dist-packages (from matplotlib-venn) (3.10.0)\n",
            "Requirement already satisfied: numpy in /usr/local/lib/python3.11/dist-packages (from matplotlib-venn) (2.0.2)\n",
            "Requirement already satisfied: scipy in /usr/local/lib/python3.11/dist-packages (from matplotlib-venn) (1.15.2)\n",
            "Requirement already satisfied: contourpy>=1.0.1 in /usr/local/lib/python3.11/dist-packages (from matplotlib->matplotlib-venn) (1.3.2)\n",
            "Requirement already satisfied: cycler>=0.10 in /usr/local/lib/python3.11/dist-packages (from matplotlib->matplotlib-venn) (0.12.1)\n",
            "Requirement already satisfied: fonttools>=4.22.0 in /usr/local/lib/python3.11/dist-packages (from matplotlib->matplotlib-venn) (4.57.0)\n",
            "Requirement already satisfied: kiwisolver>=1.3.1 in /usr/local/lib/python3.11/dist-packages (from matplotlib->matplotlib-venn) (1.4.8)\n",
            "Requirement already satisfied: packaging>=20.0 in /usr/local/lib/python3.11/dist-packages (from matplotlib->matplotlib-venn) (24.2)\n",
            "Requirement already satisfied: pillow>=8 in /usr/local/lib/python3.11/dist-packages (from matplotlib->matplotlib-venn) (11.2.1)\n",
            "Requirement already satisfied: pyparsing>=2.3.1 in /usr/local/lib/python3.11/dist-packages (from matplotlib->matplotlib-venn) (3.2.3)\n",
            "Requirement already satisfied: python-dateutil>=2.7 in /usr/local/lib/python3.11/dist-packages (from matplotlib->matplotlib-venn) (2.9.0.post0)\n",
            "Requirement already satisfied: six>=1.5 in /usr/local/lib/python3.11/dist-packages (from python-dateutil>=2.7->matplotlib->matplotlib-venn) (1.17.0)\n"
          ]
        }
      ],
      "source": [
        "!pip install matplotlib-venn"
      ]
    },
    {
      "cell_type": "code",
      "execution_count": null,
      "metadata": {
        "colab": {
          "base_uri": "https://localhost:8080/"
        },
        "id": "lPzzRE0KadwC",
        "outputId": "0a883724-44fe-4357-91a5-1240e621434b"
      },
      "outputs": [
        {
          "name": "stdout",
          "output_type": "stream",
          "text": [
            "E: Package 'libfluidsynth1' has no installation candidate\n"
          ]
        }
      ],
      "source": [
        "!apt-get -qq install -y libfluidsynth1"
      ]
    },
    {
      "cell_type": "code",
      "execution_count": null,
      "metadata": {
        "colab": {
          "base_uri": "https://localhost:8080/"
        },
        "id": "EATRV4ERamCz",
        "outputId": "701deec9-d706-41a1-a9d6-62f786a6b610"
      },
      "outputs": [
        {
          "name": "stdout",
          "output_type": "stream",
          "text": [
            "Selecting previously unselected package libarchive-dev:amd64.\n",
            "(Reading database ... 126101 files and directories currently installed.)\n",
            "Preparing to unpack .../libarchive-dev_3.6.0-1ubuntu1.4_amd64.deb ...\n",
            "Unpacking libarchive-dev:amd64 (3.6.0-1ubuntu1.4) ...\n",
            "Setting up libarchive-dev:amd64 (3.6.0-1ubuntu1.4) ...\n",
            "Processing triggers for man-db (2.10.2-1) ...\n",
            "Collecting libarchive\n",
            "  Downloading libarchive-0.4.7.tar.gz (23 kB)\n",
            "  Preparing metadata (setup.py) ... \u001b[?25l\u001b[?25hdone\n",
            "Collecting nose (from libarchive)\n",
            "  Downloading nose-1.3.7-py3-none-any.whl.metadata (1.7 kB)\n",
            "Downloading nose-1.3.7-py3-none-any.whl (154 kB)\n",
            "\u001b[2K   \u001b[90m━━━━━━━━━━━━━━━━━━━━━━━━━━━━━━━━━━━━━━━━\u001b[0m \u001b[32m154.7/154.7 kB\u001b[0m \u001b[31m5.9 MB/s\u001b[0m eta \u001b[36m0:00:00\u001b[0m\n",
            "\u001b[?25hBuilding wheels for collected packages: libarchive\n",
            "  Building wheel for libarchive (setup.py) ... \u001b[?25l\u001b[?25hdone\n",
            "  Created wheel for libarchive: filename=libarchive-0.4.7-py3-none-any.whl size=31629 sha256=a86dc7ff6bee5ccf24a655544dd7b0b3fdfde94c6a40e55933fc795c02d455bd\n",
            "  Stored in directory: /root/.cache/pip/wheels/32/98/bd/4893d6923dd027f455b250367d402bfd69a6f4416581df46db\n",
            "Successfully built libarchive\n",
            "Installing collected packages: nose, libarchive\n",
            "Successfully installed libarchive-0.4.7 nose-1.3.7\n"
          ]
        }
      ],
      "source": [
        "# https://pypi.python.org/pypi/libarchive\n",
        "!apt-get -qq install -y libarchive-dev && pip install -U libarchive\n",
        "import libarchive"
      ]
    },
    {
      "cell_type": "code",
      "execution_count": null,
      "metadata": {
        "colab": {
          "base_uri": "https://localhost:8080/"
        },
        "id": "7UOQ-ugjavAS",
        "outputId": "7a46b780-9fd2-4a5a-d0a6-40aa52992f10"
      },
      "outputs": [
        {
          "name": "stdout",
          "output_type": "stream",
          "text": [
            "Requirement already satisfied: pydot in /usr/local/lib/python3.11/dist-packages (3.0.4)\n",
            "Requirement already satisfied: pyparsing>=3.0.9 in /usr/local/lib/python3.11/dist-packages (from pydot) (3.2.3)\n"
          ]
        }
      ],
      "source": [
        "# https://pypi.python.org/pypi/pydot\n",
        "!apt-get -qq install -y graphviz && pip install pydot\n",
        "import pydot"
      ]
    },
    {
      "cell_type": "code",
      "execution_count": null,
      "metadata": {
        "colab": {
          "base_uri": "https://localhost:8080/"
        },
        "id": "05qhueU1ax1R",
        "outputId": "cdfbbf0f-e987-4bf3-8c6b-04fecf6207c5"
      },
      "outputs": [
        {
          "name": "stdout",
          "output_type": "stream",
          "text": [
            "Collecting cartopy\n",
            "  Downloading Cartopy-0.24.1-cp311-cp311-manylinux_2_17_x86_64.manylinux2014_x86_64.whl.metadata (7.9 kB)\n",
            "Requirement already satisfied: numpy>=1.23 in /usr/local/lib/python3.11/dist-packages (from cartopy) (2.0.2)\n",
            "Requirement already satisfied: matplotlib>=3.6 in /usr/local/lib/python3.11/dist-packages (from cartopy) (3.10.0)\n",
            "Requirement already satisfied: shapely>=1.8 in /usr/local/lib/python3.11/dist-packages (from cartopy) (2.1.0)\n",
            "Requirement already satisfied: packaging>=21 in /usr/local/lib/python3.11/dist-packages (from cartopy) (24.2)\n",
            "Requirement already satisfied: pyshp>=2.3 in /usr/local/lib/python3.11/dist-packages (from cartopy) (2.3.1)\n",
            "Requirement already satisfied: pyproj>=3.3.1 in /usr/local/lib/python3.11/dist-packages (from cartopy) (3.7.1)\n",
            "Requirement already satisfied: contourpy>=1.0.1 in /usr/local/lib/python3.11/dist-packages (from matplotlib>=3.6->cartopy) (1.3.2)\n",
            "Requirement already satisfied: cycler>=0.10 in /usr/local/lib/python3.11/dist-packages (from matplotlib>=3.6->cartopy) (0.12.1)\n",
            "Requirement already satisfied: fonttools>=4.22.0 in /usr/local/lib/python3.11/dist-packages (from matplotlib>=3.6->cartopy) (4.57.0)\n",
            "Requirement already satisfied: kiwisolver>=1.3.1 in /usr/local/lib/python3.11/dist-packages (from matplotlib>=3.6->cartopy) (1.4.8)\n",
            "Requirement already satisfied: pillow>=8 in /usr/local/lib/python3.11/dist-packages (from matplotlib>=3.6->cartopy) (11.2.1)\n",
            "Requirement already satisfied: pyparsing>=2.3.1 in /usr/local/lib/python3.11/dist-packages (from matplotlib>=3.6->cartopy) (3.2.3)\n",
            "Requirement already satisfied: python-dateutil>=2.7 in /usr/local/lib/python3.11/dist-packages (from matplotlib>=3.6->cartopy) (2.9.0.post0)\n",
            "Requirement already satisfied: certifi in /usr/local/lib/python3.11/dist-packages (from pyproj>=3.3.1->cartopy) (2025.4.26)\n",
            "Requirement already satisfied: six>=1.5 in /usr/local/lib/python3.11/dist-packages (from python-dateutil>=2.7->matplotlib>=3.6->cartopy) (1.17.0)\n",
            "Downloading Cartopy-0.24.1-cp311-cp311-manylinux_2_17_x86_64.manylinux2014_x86_64.whl (11.7 MB)\n",
            "\u001b[2K   \u001b[90m━━━━━━━━━━━━━━━━━━━━━━━━━━━━━━━━━━━━━━━━\u001b[0m \u001b[32m11.7/11.7 MB\u001b[0m \u001b[31m98.9 MB/s\u001b[0m eta \u001b[36m0:00:00\u001b[0m\n",
            "\u001b[?25hInstalling collected packages: cartopy\n",
            "Successfully installed cartopy-0.24.1\n"
          ]
        }
      ],
      "source": [
        "!pip install cartopy\n",
        "import cartopy"
      ]
    },
    {
      "cell_type": "code",
      "execution_count": null,
      "metadata": {
        "colab": {
          "base_uri": "https://localhost:8080/",
          "height": 349
        },
        "id": "aWapRHoQa8DA",
        "outputId": "f9a3e5ae-d8c5-436b-af27-39da808ef0b6"
      },
      "outputs": [
        {
          "ename": "ImportError",
          "evalue": "attempted relative import with no known parent package",
          "output_type": "error",
          "traceback": [
            "\u001b[0;31m---------------------------------------------------------------------------\u001b[0m",
            "\u001b[0;31mImportError\u001b[0m                               Traceback (most recent call last)",
            "\u001b[0;32m<ipython-input-19-b0a4bd6c7de1>\u001b[0m in \u001b[0;36m<cell line: 0>\u001b[0;34m()\u001b[0m\n\u001b[1;32m      3\u001b[0m \u001b[0mauth\u001b[0m \u001b[0;34m=\u001b[0m \u001b[0mBlueprint\u001b[0m\u001b[0;34m(\u001b[0m\u001b[0;34m'auth'\u001b[0m\u001b[0;34m,\u001b[0m \u001b[0m__name__\u001b[0m\u001b[0;34m)\u001b[0m\u001b[0;34m\u001b[0m\u001b[0;34m\u001b[0m\u001b[0m\n\u001b[1;32m      4\u001b[0m \u001b[0;34m\u001b[0m\u001b[0m\n\u001b[0;32m----> 5\u001b[0;31m \u001b[0;32mfrom\u001b[0m \u001b[0;34m.\u001b[0m \u001b[0;32mimport\u001b[0m \u001b[0mroutes\u001b[0m\u001b[0;34m\u001b[0m\u001b[0;34m\u001b[0m\u001b[0m\n\u001b[0m",
            "\u001b[0;31mImportError\u001b[0m: attempted relative import with no known parent package",
            "",
            "\u001b[0;31m---------------------------------------------------------------------------\u001b[0;32m\nNOTE: If your import is failing due to a missing package, you can\nmanually install dependencies using either !pip or !apt.\n\nTo view examples of installing some common dependencies, click the\n\"Open Examples\" button below.\n\u001b[0;31m---------------------------------------------------------------------------\u001b[0m\n"
          ]
        }
      ],
      "source": [
        "from flask import Blueprint\n",
        "\n",
        "auth = Blueprint('auth', __name__)\n",
        "\n",
        "from . import routes\n"
      ]
    },
    {
      "cell_type": "markdown",
      "metadata": {
        "id": "MvUz2rXzVSzJ"
      },
      "source": [
        "app/main/routes.py"
      ]
    },
    {
      "cell_type": "code",
      "execution_count": null,
      "metadata": {
        "colab": {
          "base_uri": "https://localhost:8080/",
          "height": 383
        },
        "id": "jl4cobGLVUNx",
        "outputId": "891d295b-c803-4104-9cdb-a343412c7149"
      },
      "outputs": [
        {
          "ename": "ImportError",
          "evalue": "attempted relative import with no known parent package",
          "output_type": "error",
          "traceback": [
            "\u001b[0;31m---------------------------------------------------------------------------\u001b[0m",
            "\u001b[0;31mImportError\u001b[0m                               Traceback (most recent call last)",
            "\u001b[0;32m<ipython-input-10-b8f39b5b15ed>\u001b[0m in \u001b[0;36m<cell line: 0>\u001b[0;34m()\u001b[0m\n\u001b[1;32m      1\u001b[0m \u001b[0;32mfrom\u001b[0m \u001b[0mflask\u001b[0m \u001b[0;32mimport\u001b[0m \u001b[0mrender_template\u001b[0m\u001b[0;34m\u001b[0m\u001b[0;34m\u001b[0m\u001b[0m\n\u001b[0;32m----> 2\u001b[0;31m \u001b[0;32mfrom\u001b[0m \u001b[0;34m.\u001b[0m \u001b[0;32mimport\u001b[0m \u001b[0mmain\u001b[0m\u001b[0;34m\u001b[0m\u001b[0;34m\u001b[0m\u001b[0m\n\u001b[0m\u001b[1;32m      3\u001b[0m \u001b[0;34m\u001b[0m\u001b[0m\n\u001b[1;32m      4\u001b[0m \u001b[0;34m@\u001b[0m\u001b[0mmain\u001b[0m\u001b[0;34m.\u001b[0m\u001b[0mroute\u001b[0m\u001b[0;34m(\u001b[0m\u001b[0;34m'/'\u001b[0m\u001b[0;34m)\u001b[0m\u001b[0;34m\u001b[0m\u001b[0;34m\u001b[0m\u001b[0m\n\u001b[1;32m      5\u001b[0m \u001b[0;32mdef\u001b[0m \u001b[0mindex\u001b[0m\u001b[0;34m(\u001b[0m\u001b[0;34m)\u001b[0m\u001b[0;34m:\u001b[0m\u001b[0;34m\u001b[0m\u001b[0;34m\u001b[0m\u001b[0m\n",
            "\u001b[0;31mImportError\u001b[0m: attempted relative import with no known parent package",
            "",
            "\u001b[0;31m---------------------------------------------------------------------------\u001b[0;32m\nNOTE: If your import is failing due to a missing package, you can\nmanually install dependencies using either !pip or !apt.\n\nTo view examples of installing some common dependencies, click the\n\"Open Examples\" button below.\n\u001b[0;31m---------------------------------------------------------------------------\u001b[0m\n"
          ]
        }
      ],
      "source": [
        "from flask import render_template\n",
        "from . import main\n",
        "\n",
        "@main.route('/')\n",
        "def index():\n",
        "    return render_template('index.html')\n"
      ]
    },
    {
      "cell_type": "markdown",
      "source": [
        "12.  How do you define a custom Jinja filter in Flask?"
      ],
      "metadata": {
        "id": "7Pok3h7Tu5fp"
      }
    },
    {
      "cell_type": "code",
      "source": [
        "#Create Flask Application\n",
        "from flask import Flask, render_template\n",
        "\n",
        "app = Flask(__name__)\n"
      ],
      "metadata": {
        "id": "csooy9RRvHM9"
      },
      "execution_count": 1,
      "outputs": []
    },
    {
      "cell_type": "code",
      "source": [
        "#Define custom filter\n",
        "def uppercase_filter(s):\n",
        "    return s.upper()\n"
      ],
      "metadata": {
        "id": "vyBIxifMvPLV"
      },
      "execution_count": 2,
      "outputs": []
    },
    {
      "cell_type": "code",
      "source": [
        "#Register the file\n",
        "@app.template_filter('uppercase')\n",
        "def uppercase_filter(s):\n",
        "    return s.upper()\n"
      ],
      "metadata": {
        "id": "JTOPCQ2BvW9H"
      },
      "execution_count": 3,
      "outputs": []
    },
    {
      "cell_type": "markdown",
      "source": [
        "#Use the filter in a template\n",
        "\n",
        "<!DOCTYPE html>\n",
        "<html lang=\"en\">\n",
        "<head>\n",
        "    <meta charset=\"UTF-8\">\n",
        "    <title>Custom Jinja Filter Example</title>\n",
        "</head>\n",
        "<body>\n",
        "    <h1>{{ \"hello world\" | uppercase }}</h1>\n",
        "</body>\n",
        "</html>\n"
      ],
      "metadata": {
        "id": "7h9TAlmhvnB3"
      }
    },
    {
      "cell_type": "code",
      "source": [
        "#Render the template\n",
        "@app.route('/')\n",
        "def home():\n",
        "    return render_template('index.html')\n",
        "\n",
        "if __name__ == '__main__':\n",
        "    app.run(debug=True)\n"
      ],
      "metadata": {
        "colab": {
          "base_uri": "https://localhost:8080/"
        },
        "id": "gECJbkuBvvye",
        "outputId": "2fe37cf6-6fc5-4333-fa2d-2681d98674ec"
      },
      "execution_count": 4,
      "outputs": [
        {
          "output_type": "stream",
          "name": "stdout",
          "text": [
            " * Serving Flask app '__main__'\n",
            " * Debug mode: on\n"
          ]
        },
        {
          "output_type": "stream",
          "name": "stderr",
          "text": [
            "INFO:werkzeug:\u001b[31m\u001b[1mWARNING: This is a development server. Do not use it in a production deployment. Use a production WSGI server instead.\u001b[0m\n",
            " * Running on http://127.0.0.1:5000\n",
            "INFO:werkzeug:\u001b[33mPress CTRL+C to quit\u001b[0m\n",
            "INFO:werkzeug: * Restarting with stat\n"
          ]
        }
      ]
    },
    {
      "cell_type": "markdown",
      "source": [
        "13.  How can you redirect with query parameters in Flask?"
      ],
      "metadata": {
        "id": "heSl8Dozv13D"
      }
    },
    {
      "cell_type": "code",
      "source": [
        "from flask import Flask, redirect, url_for, request\n",
        "\n",
        "app = Flask(__name__)\n",
        "\n",
        "@app.route('/redirect_example')\n",
        "def redirect_example():\n",
        "    param1 = request.args.get('param1')\n",
        "    param2 = request.args.get('param2')\n",
        "    return redirect(url_for('target_route', param1=param1, param2=param2))\n",
        "\n",
        "@app.route('/target_route')\n",
        "def target_route():\n",
        "    param1 = request.args.get('param1')\n",
        "    param2 = request.args.get('param2')\n",
        "    return f'Received param1: {param1}, param2: {param2}'\n",
        "\n",
        "if __name__ == '__main__':\n",
        "    app.run(debug=True)\n"
      ],
      "metadata": {
        "colab": {
          "base_uri": "https://localhost:8080/"
        },
        "id": "3HZ8AobRwFH0",
        "outputId": "87347558-cc9f-4b34-b66b-ece5ff171dac"
      },
      "execution_count": 5,
      "outputs": [
        {
          "output_type": "stream",
          "name": "stdout",
          "text": [
            " * Serving Flask app '__main__'\n",
            " * Debug mode: on\n"
          ]
        },
        {
          "output_type": "stream",
          "name": "stderr",
          "text": [
            "INFO:werkzeug:\u001b[31m\u001b[1mWARNING: This is a development server. Do not use it in a production deployment. Use a production WSGI server instead.\u001b[0m\n",
            " * Running on http://127.0.0.1:5000\n",
            "INFO:werkzeug:\u001b[33mPress CTRL+C to quit\u001b[0m\n",
            "INFO:werkzeug: * Restarting with stat\n"
          ]
        }
      ]
    },
    {
      "cell_type": "markdown",
      "source": [
        "14.  How do you return JSON responses in Flask?\n"
      ],
      "metadata": {
        "id": "ZoWwAbSPwbYR"
      }
    },
    {
      "cell_type": "code",
      "source": [
        "from flask import Flask, jsonify\n",
        "\n",
        "app = Flask(__name__)\n",
        "\n",
        "@app.route('/api/data')\n",
        "def get_data():\n",
        "    data = {\n",
        "        'name': 'John Doe',\n",
        "        'age': 30,\n",
        "        'city': 'New York'\n",
        "    }\n",
        "    return jsonify(data)\n",
        "\n",
        "if __name__ == '__main__':\n",
        "    app.run(debug=True)\n"
      ],
      "metadata": {
        "colab": {
          "base_uri": "https://localhost:8080/"
        },
        "id": "020vEihNwfQ7",
        "outputId": "191d0d68-7a24-4511-d50b-f24c5ca3072b"
      },
      "execution_count": 6,
      "outputs": [
        {
          "output_type": "stream",
          "name": "stdout",
          "text": [
            " * Serving Flask app '__main__'\n",
            " * Debug mode: on\n"
          ]
        },
        {
          "output_type": "stream",
          "name": "stderr",
          "text": [
            "INFO:werkzeug:\u001b[31m\u001b[1mWARNING: This is a development server. Do not use it in a production deployment. Use a production WSGI server instead.\u001b[0m\n",
            " * Running on http://127.0.0.1:5000\n",
            "INFO:werkzeug:\u001b[33mPress CTRL+C to quit\u001b[0m\n",
            "INFO:werkzeug: * Restarting with stat\n"
          ]
        }
      ]
    },
    {
      "cell_type": "code",
      "source": [
        "#How to test the JSON Response\n",
        "{\n",
        "    \"name\": \"John Doe\",\n",
        "    \"age\": 30,\n",
        "    \"city\": \"New York\"\n",
        "}\n"
      ],
      "metadata": {
        "colab": {
          "base_uri": "https://localhost:8080/"
        },
        "id": "o9uc7IM1w2XE",
        "outputId": "ea70a28e-6374-4baa-9f93-5673b4dfb3ca"
      },
      "execution_count": 7,
      "outputs": [
        {
          "output_type": "execute_result",
          "data": {
            "text/plain": [
              "{'name': 'John Doe', 'age': 30, 'city': 'New York'}"
            ]
          },
          "metadata": {},
          "execution_count": 7
        }
      ]
    },
    {
      "cell_type": "markdown",
      "source": [
        "15.  How do you capture URL parameters in Flask?"
      ],
      "metadata": {
        "id": "g1roBDM0xNtf"
      }
    },
    {
      "cell_type": "code",
      "source": [
        "from flask import Flask\n",
        "\n",
        "app = Flask(__name__)\n",
        "\n",
        "@app.route('/user/<username>/<int:age>')\n",
        "def show_user_profile(username, age):\n",
        "    return f':User  {username}, Age: {age}'\n",
        "\n",
        "if __name__ == '__main__':\n",
        "    app.run(debug=True)\n"
      ],
      "metadata": {
        "colab": {
          "base_uri": "https://localhost:8080/"
        },
        "id": "YKht2comxR2Z",
        "outputId": "e6177462-8fc2-42f8-f9b6-6218e7037d15"
      },
      "execution_count": 9,
      "outputs": [
        {
          "output_type": "stream",
          "name": "stdout",
          "text": [
            " * Serving Flask app '__main__'\n",
            " * Debug mode: on\n"
          ]
        },
        {
          "output_type": "stream",
          "name": "stderr",
          "text": [
            "INFO:werkzeug:\u001b[31m\u001b[1mWARNING: This is a development server. Do not use it in a production deployment. Use a production WSGI server instead.\u001b[0m\n",
            " * Running on http://127.0.0.1:5000\n",
            "INFO:werkzeug:\u001b[33mPress CTRL+C to quit\u001b[0m\n",
            "INFO:werkzeug: * Restarting with stat\n"
          ]
        }
      ]
    }
  ],
  "metadata": {
    "accelerator": "GPU",
    "colab": {
      "gpuType": "T4",
      "provenance": []
    },
    "kernelspec": {
      "display_name": "Python 3",
      "name": "python3"
    },
    "language_info": {
      "name": "python"
    }
  },
  "nbformat": 4,
  "nbformat_minor": 0
}